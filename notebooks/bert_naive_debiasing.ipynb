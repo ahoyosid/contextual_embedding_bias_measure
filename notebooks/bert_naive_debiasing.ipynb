{
 "cells": [
  {
   "cell_type": "markdown",
   "metadata": {},
   "source": [
    "Simply debias BERT by optimizing the log odds ratio"
   ]
  },
  {
   "cell_type": "code",
   "execution_count": 1,
   "metadata": {},
   "outputs": [],
   "source": [
    "%load_ext autoreload\n",
    "%autoreload 2"
   ]
  },
  {
   "cell_type": "code",
   "execution_count": 2,
   "metadata": {},
   "outputs": [],
   "source": [
    "import torch\n",
    "import torch.nn as nn\n",
    "import torch.optim as optim\n",
    "\n",
    "import pandas as pd\n",
    "import numpy as np\n",
    "from pathlib import Path\n",
    "from typing import *\n",
    "import matplotlib.pyplot as plt\n",
    "from overrides import overrides\n",
    "%matplotlib inline"
   ]
  },
  {
   "cell_type": "code",
   "execution_count": 3,
   "metadata": {},
   "outputs": [],
   "source": [
    "import sys\n",
    "sys.path.append(\"../lib\")"
   ]
  },
  {
   "cell_type": "code",
   "execution_count": 4,
   "metadata": {},
   "outputs": [
    {
     "name": "stdout",
     "output_type": "stream",
     "text": [
      "Better speed can be achieved with apex installed from https://www.github.com/nvidia/apex.\n"
     ]
    }
   ],
   "source": [
    "from bert_utils import Config, BertPreprocessor\n",
    "config = Config(\n",
    "    model_type=\"bert-base-uncased\",\n",
    "    max_seq_len=24,\n",
    "    batch_size=32,\n",
    "    bias_weight=1., # technically unnecessary, but for easier debugging\n",
    "    consistency_weight=1.5,\n",
    "    lr=1e-4,\n",
    "    disable_dropout=True,\n",
    "    prior_precomputed=True,\n",
    "    testing=True,\n",
    ")"
   ]
  },
  {
   "cell_type": "code",
   "execution_count": 5,
   "metadata": {},
   "outputs": [],
   "source": [
    "device = torch.device(\"cuda:0\" if torch.cuda.is_available() else \"cpu\")"
   ]
  },
  {
   "cell_type": "code",
   "execution_count": 6,
   "metadata": {},
   "outputs": [],
   "source": [
    "T = TypeVar(\"T\")\n",
    "TensorDict = Dict[str, Union[torch.Tensor, Dict[str, torch.Tensor]]]"
   ]
  },
  {
   "cell_type": "code",
   "execution_count": 7,
   "metadata": {},
   "outputs": [],
   "source": [
    "processor = BertPreprocessor(config.model_type, config.max_seq_len)"
   ]
  },
  {
   "cell_type": "code",
   "execution_count": 8,
   "metadata": {},
   "outputs": [],
   "source": [
    "DATA_ROOT = Path(\"../data\")\n",
    "MODEL_SAVE_DIR = Path(\"../weights\")"
   ]
  },
  {
   "cell_type": "markdown",
   "metadata": {},
   "source": [
    "Read the model in here"
   ]
  },
  {
   "cell_type": "code",
   "execution_count": 9,
   "metadata": {},
   "outputs": [
    {
     "data": {
      "text/plain": [
       "BertForMaskedLM(\n",
       "  (bert): BertModel(\n",
       "    (embeddings): BertEmbeddings(\n",
       "      (word_embeddings): Embedding(30522, 768)\n",
       "      (position_embeddings): Embedding(512, 768)\n",
       "      (token_type_embeddings): Embedding(2, 768)\n",
       "      (LayerNorm): BertLayerNorm()\n",
       "      (dropout): Dropout(p=0.1)\n",
       "    )\n",
       "    (encoder): BertEncoder(\n",
       "      (layer): ModuleList(\n",
       "        (0): BertLayer(\n",
       "          (attention): BertAttention(\n",
       "            (self): BertSelfAttention(\n",
       "              (query): Linear(in_features=768, out_features=768, bias=True)\n",
       "              (key): Linear(in_features=768, out_features=768, bias=True)\n",
       "              (value): Linear(in_features=768, out_features=768, bias=True)\n",
       "              (dropout): Dropout(p=0.1)\n",
       "            )\n",
       "            (output): BertSelfOutput(\n",
       "              (dense): Linear(in_features=768, out_features=768, bias=True)\n",
       "              (LayerNorm): BertLayerNorm()\n",
       "              (dropout): Dropout(p=0.1)\n",
       "            )\n",
       "          )\n",
       "          (intermediate): BertIntermediate(\n",
       "            (dense): Linear(in_features=768, out_features=3072, bias=True)\n",
       "          )\n",
       "          (output): BertOutput(\n",
       "            (dense): Linear(in_features=3072, out_features=768, bias=True)\n",
       "            (LayerNorm): BertLayerNorm()\n",
       "            (dropout): Dropout(p=0.1)\n",
       "          )\n",
       "        )\n",
       "        (1): BertLayer(\n",
       "          (attention): BertAttention(\n",
       "            (self): BertSelfAttention(\n",
       "              (query): Linear(in_features=768, out_features=768, bias=True)\n",
       "              (key): Linear(in_features=768, out_features=768, bias=True)\n",
       "              (value): Linear(in_features=768, out_features=768, bias=True)\n",
       "              (dropout): Dropout(p=0.1)\n",
       "            )\n",
       "            (output): BertSelfOutput(\n",
       "              (dense): Linear(in_features=768, out_features=768, bias=True)\n",
       "              (LayerNorm): BertLayerNorm()\n",
       "              (dropout): Dropout(p=0.1)\n",
       "            )\n",
       "          )\n",
       "          (intermediate): BertIntermediate(\n",
       "            (dense): Linear(in_features=768, out_features=3072, bias=True)\n",
       "          )\n",
       "          (output): BertOutput(\n",
       "            (dense): Linear(in_features=3072, out_features=768, bias=True)\n",
       "            (LayerNorm): BertLayerNorm()\n",
       "            (dropout): Dropout(p=0.1)\n",
       "          )\n",
       "        )\n",
       "        (2): BertLayer(\n",
       "          (attention): BertAttention(\n",
       "            (self): BertSelfAttention(\n",
       "              (query): Linear(in_features=768, out_features=768, bias=True)\n",
       "              (key): Linear(in_features=768, out_features=768, bias=True)\n",
       "              (value): Linear(in_features=768, out_features=768, bias=True)\n",
       "              (dropout): Dropout(p=0.1)\n",
       "            )\n",
       "            (output): BertSelfOutput(\n",
       "              (dense): Linear(in_features=768, out_features=768, bias=True)\n",
       "              (LayerNorm): BertLayerNorm()\n",
       "              (dropout): Dropout(p=0.1)\n",
       "            )\n",
       "          )\n",
       "          (intermediate): BertIntermediate(\n",
       "            (dense): Linear(in_features=768, out_features=3072, bias=True)\n",
       "          )\n",
       "          (output): BertOutput(\n",
       "            (dense): Linear(in_features=3072, out_features=768, bias=True)\n",
       "            (LayerNorm): BertLayerNorm()\n",
       "            (dropout): Dropout(p=0.1)\n",
       "          )\n",
       "        )\n",
       "        (3): BertLayer(\n",
       "          (attention): BertAttention(\n",
       "            (self): BertSelfAttention(\n",
       "              (query): Linear(in_features=768, out_features=768, bias=True)\n",
       "              (key): Linear(in_features=768, out_features=768, bias=True)\n",
       "              (value): Linear(in_features=768, out_features=768, bias=True)\n",
       "              (dropout): Dropout(p=0.1)\n",
       "            )\n",
       "            (output): BertSelfOutput(\n",
       "              (dense): Linear(in_features=768, out_features=768, bias=True)\n",
       "              (LayerNorm): BertLayerNorm()\n",
       "              (dropout): Dropout(p=0.1)\n",
       "            )\n",
       "          )\n",
       "          (intermediate): BertIntermediate(\n",
       "            (dense): Linear(in_features=768, out_features=3072, bias=True)\n",
       "          )\n",
       "          (output): BertOutput(\n",
       "            (dense): Linear(in_features=3072, out_features=768, bias=True)\n",
       "            (LayerNorm): BertLayerNorm()\n",
       "            (dropout): Dropout(p=0.1)\n",
       "          )\n",
       "        )\n",
       "        (4): BertLayer(\n",
       "          (attention): BertAttention(\n",
       "            (self): BertSelfAttention(\n",
       "              (query): Linear(in_features=768, out_features=768, bias=True)\n",
       "              (key): Linear(in_features=768, out_features=768, bias=True)\n",
       "              (value): Linear(in_features=768, out_features=768, bias=True)\n",
       "              (dropout): Dropout(p=0.1)\n",
       "            )\n",
       "            (output): BertSelfOutput(\n",
       "              (dense): Linear(in_features=768, out_features=768, bias=True)\n",
       "              (LayerNorm): BertLayerNorm()\n",
       "              (dropout): Dropout(p=0.1)\n",
       "            )\n",
       "          )\n",
       "          (intermediate): BertIntermediate(\n",
       "            (dense): Linear(in_features=768, out_features=3072, bias=True)\n",
       "          )\n",
       "          (output): BertOutput(\n",
       "            (dense): Linear(in_features=3072, out_features=768, bias=True)\n",
       "            (LayerNorm): BertLayerNorm()\n",
       "            (dropout): Dropout(p=0.1)\n",
       "          )\n",
       "        )\n",
       "        (5): BertLayer(\n",
       "          (attention): BertAttention(\n",
       "            (self): BertSelfAttention(\n",
       "              (query): Linear(in_features=768, out_features=768, bias=True)\n",
       "              (key): Linear(in_features=768, out_features=768, bias=True)\n",
       "              (value): Linear(in_features=768, out_features=768, bias=True)\n",
       "              (dropout): Dropout(p=0.1)\n",
       "            )\n",
       "            (output): BertSelfOutput(\n",
       "              (dense): Linear(in_features=768, out_features=768, bias=True)\n",
       "              (LayerNorm): BertLayerNorm()\n",
       "              (dropout): Dropout(p=0.1)\n",
       "            )\n",
       "          )\n",
       "          (intermediate): BertIntermediate(\n",
       "            (dense): Linear(in_features=768, out_features=3072, bias=True)\n",
       "          )\n",
       "          (output): BertOutput(\n",
       "            (dense): Linear(in_features=3072, out_features=768, bias=True)\n",
       "            (LayerNorm): BertLayerNorm()\n",
       "            (dropout): Dropout(p=0.1)\n",
       "          )\n",
       "        )\n",
       "        (6): BertLayer(\n",
       "          (attention): BertAttention(\n",
       "            (self): BertSelfAttention(\n",
       "              (query): Linear(in_features=768, out_features=768, bias=True)\n",
       "              (key): Linear(in_features=768, out_features=768, bias=True)\n",
       "              (value): Linear(in_features=768, out_features=768, bias=True)\n",
       "              (dropout): Dropout(p=0.1)\n",
       "            )\n",
       "            (output): BertSelfOutput(\n",
       "              (dense): Linear(in_features=768, out_features=768, bias=True)\n",
       "              (LayerNorm): BertLayerNorm()\n",
       "              (dropout): Dropout(p=0.1)\n",
       "            )\n",
       "          )\n",
       "          (intermediate): BertIntermediate(\n",
       "            (dense): Linear(in_features=768, out_features=3072, bias=True)\n",
       "          )\n",
       "          (output): BertOutput(\n",
       "            (dense): Linear(in_features=3072, out_features=768, bias=True)\n",
       "            (LayerNorm): BertLayerNorm()\n",
       "            (dropout): Dropout(p=0.1)\n",
       "          )\n",
       "        )\n",
       "        (7): BertLayer(\n",
       "          (attention): BertAttention(\n",
       "            (self): BertSelfAttention(\n",
       "              (query): Linear(in_features=768, out_features=768, bias=True)\n",
       "              (key): Linear(in_features=768, out_features=768, bias=True)\n",
       "              (value): Linear(in_features=768, out_features=768, bias=True)\n",
       "              (dropout): Dropout(p=0.1)\n",
       "            )\n",
       "            (output): BertSelfOutput(\n",
       "              (dense): Linear(in_features=768, out_features=768, bias=True)\n",
       "              (LayerNorm): BertLayerNorm()\n",
       "              (dropout): Dropout(p=0.1)\n",
       "            )\n",
       "          )\n",
       "          (intermediate): BertIntermediate(\n",
       "            (dense): Linear(in_features=768, out_features=3072, bias=True)\n",
       "          )\n",
       "          (output): BertOutput(\n",
       "            (dense): Linear(in_features=3072, out_features=768, bias=True)\n",
       "            (LayerNorm): BertLayerNorm()\n",
       "            (dropout): Dropout(p=0.1)\n",
       "          )\n",
       "        )\n",
       "        (8): BertLayer(\n",
       "          (attention): BertAttention(\n",
       "            (self): BertSelfAttention(\n",
       "              (query): Linear(in_features=768, out_features=768, bias=True)\n",
       "              (key): Linear(in_features=768, out_features=768, bias=True)\n",
       "              (value): Linear(in_features=768, out_features=768, bias=True)\n",
       "              (dropout): Dropout(p=0.1)\n",
       "            )\n",
       "            (output): BertSelfOutput(\n",
       "              (dense): Linear(in_features=768, out_features=768, bias=True)\n",
       "              (LayerNorm): BertLayerNorm()\n",
       "              (dropout): Dropout(p=0.1)\n",
       "            )\n",
       "          )\n",
       "          (intermediate): BertIntermediate(\n",
       "            (dense): Linear(in_features=768, out_features=3072, bias=True)\n",
       "          )\n",
       "          (output): BertOutput(\n",
       "            (dense): Linear(in_features=3072, out_features=768, bias=True)\n",
       "            (LayerNorm): BertLayerNorm()\n",
       "            (dropout): Dropout(p=0.1)\n",
       "          )\n",
       "        )\n",
       "        (9): BertLayer(\n",
       "          (attention): BertAttention(\n",
       "            (self): BertSelfAttention(\n",
       "              (query): Linear(in_features=768, out_features=768, bias=True)\n",
       "              (key): Linear(in_features=768, out_features=768, bias=True)\n",
       "              (value): Linear(in_features=768, out_features=768, bias=True)\n",
       "              (dropout): Dropout(p=0.1)\n",
       "            )\n",
       "            (output): BertSelfOutput(\n",
       "              (dense): Linear(in_features=768, out_features=768, bias=True)\n",
       "              (LayerNorm): BertLayerNorm()\n",
       "              (dropout): Dropout(p=0.1)\n",
       "            )\n",
       "          )\n",
       "          (intermediate): BertIntermediate(\n",
       "            (dense): Linear(in_features=768, out_features=3072, bias=True)\n",
       "          )\n",
       "          (output): BertOutput(\n",
       "            (dense): Linear(in_features=3072, out_features=768, bias=True)\n",
       "            (LayerNorm): BertLayerNorm()\n",
       "            (dropout): Dropout(p=0.1)\n",
       "          )\n",
       "        )\n",
       "        (10): BertLayer(\n",
       "          (attention): BertAttention(\n",
       "            (self): BertSelfAttention(\n",
       "              (query): Linear(in_features=768, out_features=768, bias=True)\n",
       "              (key): Linear(in_features=768, out_features=768, bias=True)\n",
       "              (value): Linear(in_features=768, out_features=768, bias=True)\n",
       "              (dropout): Dropout(p=0.1)\n",
       "            )\n",
       "            (output): BertSelfOutput(\n",
       "              (dense): Linear(in_features=768, out_features=768, bias=True)\n",
       "              (LayerNorm): BertLayerNorm()\n",
       "              (dropout): Dropout(p=0.1)\n",
       "            )\n",
       "          )\n",
       "          (intermediate): BertIntermediate(\n",
       "            (dense): Linear(in_features=768, out_features=3072, bias=True)\n",
       "          )\n",
       "          (output): BertOutput(\n",
       "            (dense): Linear(in_features=3072, out_features=768, bias=True)\n",
       "            (LayerNorm): BertLayerNorm()\n",
       "            (dropout): Dropout(p=0.1)\n",
       "          )\n",
       "        )\n",
       "        (11): BertLayer(\n",
       "          (attention): BertAttention(\n",
       "            (self): BertSelfAttention(\n",
       "              (query): Linear(in_features=768, out_features=768, bias=True)\n",
       "              (key): Linear(in_features=768, out_features=768, bias=True)\n",
       "              (value): Linear(in_features=768, out_features=768, bias=True)\n",
       "              (dropout): Dropout(p=0.1)\n",
       "            )\n",
       "            (output): BertSelfOutput(\n",
       "              (dense): Linear(in_features=768, out_features=768, bias=True)\n",
       "              (LayerNorm): BertLayerNorm()\n",
       "              (dropout): Dropout(p=0.1)\n",
       "            )\n",
       "          )\n",
       "          (intermediate): BertIntermediate(\n",
       "            (dense): Linear(in_features=768, out_features=3072, bias=True)\n",
       "          )\n",
       "          (output): BertOutput(\n",
       "            (dense): Linear(in_features=3072, out_features=768, bias=True)\n",
       "            (LayerNorm): BertLayerNorm()\n",
       "            (dropout): Dropout(p=0.1)\n",
       "          )\n",
       "        )\n",
       "      )\n",
       "    )\n",
       "    (pooler): BertPooler(\n",
       "      (dense): Linear(in_features=768, out_features=768, bias=True)\n",
       "      (activation): Tanh()\n",
       "    )\n",
       "  )\n",
       "  (cls): BertOnlyMLMHead(\n",
       "    (predictions): BertLMPredictionHead(\n",
       "      (transform): BertPredictionHeadTransform(\n",
       "        (dense): Linear(in_features=768, out_features=768, bias=True)\n",
       "        (LayerNorm): BertLayerNorm()\n",
       "      )\n",
       "      (decoder): Linear(in_features=768, out_features=30522, bias=False)\n",
       "    )\n",
       "  )\n",
       ")"
      ]
     },
     "execution_count": 9,
     "metadata": {},
     "output_type": "execute_result"
    }
   ],
   "source": [
    "from pytorch_pretrained_bert import BertConfig, BertForMaskedLM\n",
    "masked_lm = BertForMaskedLM.from_pretrained(config.model_type)\n",
    "masked_lm.eval()"
   ]
  },
  {
   "cell_type": "code",
   "execution_count": null,
   "metadata": {},
   "outputs": [],
   "source": []
  },
  {
   "cell_type": "markdown",
   "metadata": {},
   "source": [
    "Dropout might be causing the model to be more uncertain, attributing lower probs to the correct sentence: disabling might help with logit explosion"
   ]
  },
  {
   "cell_type": "code",
   "execution_count": 10,
   "metadata": {},
   "outputs": [],
   "source": [
    "if config.disable_dropout:\n",
    "    def disable_dropout(mod):\n",
    "        if hasattr(mod, \"named_children\"):\n",
    "            for nm, child in mod.named_children():\n",
    "                if \"dropout\" in nm: child.p = 0. # forcibly set to 0\n",
    "                disable_dropout(child)\n",
    "    disable_dropout(masked_lm)"
   ]
  },
  {
   "cell_type": "code",
   "execution_count": 11,
   "metadata": {},
   "outputs": [
    {
     "data": {
      "text/plain": [
       "BertForMaskedLM(\n",
       "  (bert): BertModel(\n",
       "    (embeddings): BertEmbeddings(\n",
       "      (word_embeddings): Embedding(30522, 768)\n",
       "      (position_embeddings): Embedding(512, 768)\n",
       "      (token_type_embeddings): Embedding(2, 768)\n",
       "      (LayerNorm): BertLayerNorm()\n",
       "      (dropout): Dropout(p=0.0)\n",
       "    )\n",
       "    (encoder): BertEncoder(\n",
       "      (layer): ModuleList(\n",
       "        (0): BertLayer(\n",
       "          (attention): BertAttention(\n",
       "            (self): BertSelfAttention(\n",
       "              (query): Linear(in_features=768, out_features=768, bias=True)\n",
       "              (key): Linear(in_features=768, out_features=768, bias=True)\n",
       "              (value): Linear(in_features=768, out_features=768, bias=True)\n",
       "              (dropout): Dropout(p=0.0)\n",
       "            )\n",
       "            (output): BertSelfOutput(\n",
       "              (dense): Linear(in_features=768, out_features=768, bias=True)\n",
       "              (LayerNorm): BertLayerNorm()\n",
       "              (dropout): Dropout(p=0.0)\n",
       "            )\n",
       "          )\n",
       "          (intermediate): BertIntermediate(\n",
       "            (dense): Linear(in_features=768, out_features=3072, bias=True)\n",
       "          )\n",
       "          (output): BertOutput(\n",
       "            (dense): Linear(in_features=3072, out_features=768, bias=True)\n",
       "            (LayerNorm): BertLayerNorm()\n",
       "            (dropout): Dropout(p=0.0)\n",
       "          )\n",
       "        )\n",
       "        (1): BertLayer(\n",
       "          (attention): BertAttention(\n",
       "            (self): BertSelfAttention(\n",
       "              (query): Linear(in_features=768, out_features=768, bias=True)\n",
       "              (key): Linear(in_features=768, out_features=768, bias=True)\n",
       "              (value): Linear(in_features=768, out_features=768, bias=True)\n",
       "              (dropout): Dropout(p=0.0)\n",
       "            )\n",
       "            (output): BertSelfOutput(\n",
       "              (dense): Linear(in_features=768, out_features=768, bias=True)\n",
       "              (LayerNorm): BertLayerNorm()\n",
       "              (dropout): Dropout(p=0.0)\n",
       "            )\n",
       "          )\n",
       "          (intermediate): BertIntermediate(\n",
       "            (dense): Linear(in_features=768, out_features=3072, bias=True)\n",
       "          )\n",
       "          (output): BertOutput(\n",
       "            (dense): Linear(in_features=3072, out_features=768, bias=True)\n",
       "            (LayerNorm): BertLayerNorm()\n",
       "            (dropout): Dropout(p=0.0)\n",
       "          )\n",
       "        )\n",
       "        (2): BertLayer(\n",
       "          (attention): BertAttention(\n",
       "            (self): BertSelfAttention(\n",
       "              (query): Linear(in_features=768, out_features=768, bias=True)\n",
       "              (key): Linear(in_features=768, out_features=768, bias=True)\n",
       "              (value): Linear(in_features=768, out_features=768, bias=True)\n",
       "              (dropout): Dropout(p=0.0)\n",
       "            )\n",
       "            (output): BertSelfOutput(\n",
       "              (dense): Linear(in_features=768, out_features=768, bias=True)\n",
       "              (LayerNorm): BertLayerNorm()\n",
       "              (dropout): Dropout(p=0.0)\n",
       "            )\n",
       "          )\n",
       "          (intermediate): BertIntermediate(\n",
       "            (dense): Linear(in_features=768, out_features=3072, bias=True)\n",
       "          )\n",
       "          (output): BertOutput(\n",
       "            (dense): Linear(in_features=3072, out_features=768, bias=True)\n",
       "            (LayerNorm): BertLayerNorm()\n",
       "            (dropout): Dropout(p=0.0)\n",
       "          )\n",
       "        )\n",
       "        (3): BertLayer(\n",
       "          (attention): BertAttention(\n",
       "            (self): BertSelfAttention(\n",
       "              (query): Linear(in_features=768, out_features=768, bias=True)\n",
       "              (key): Linear(in_features=768, out_features=768, bias=True)\n",
       "              (value): Linear(in_features=768, out_features=768, bias=True)\n",
       "              (dropout): Dropout(p=0.0)\n",
       "            )\n",
       "            (output): BertSelfOutput(\n",
       "              (dense): Linear(in_features=768, out_features=768, bias=True)\n",
       "              (LayerNorm): BertLayerNorm()\n",
       "              (dropout): Dropout(p=0.0)\n",
       "            )\n",
       "          )\n",
       "          (intermediate): BertIntermediate(\n",
       "            (dense): Linear(in_features=768, out_features=3072, bias=True)\n",
       "          )\n",
       "          (output): BertOutput(\n",
       "            (dense): Linear(in_features=3072, out_features=768, bias=True)\n",
       "            (LayerNorm): BertLayerNorm()\n",
       "            (dropout): Dropout(p=0.0)\n",
       "          )\n",
       "        )\n",
       "        (4): BertLayer(\n",
       "          (attention): BertAttention(\n",
       "            (self): BertSelfAttention(\n",
       "              (query): Linear(in_features=768, out_features=768, bias=True)\n",
       "              (key): Linear(in_features=768, out_features=768, bias=True)\n",
       "              (value): Linear(in_features=768, out_features=768, bias=True)\n",
       "              (dropout): Dropout(p=0.0)\n",
       "            )\n",
       "            (output): BertSelfOutput(\n",
       "              (dense): Linear(in_features=768, out_features=768, bias=True)\n",
       "              (LayerNorm): BertLayerNorm()\n",
       "              (dropout): Dropout(p=0.0)\n",
       "            )\n",
       "          )\n",
       "          (intermediate): BertIntermediate(\n",
       "            (dense): Linear(in_features=768, out_features=3072, bias=True)\n",
       "          )\n",
       "          (output): BertOutput(\n",
       "            (dense): Linear(in_features=3072, out_features=768, bias=True)\n",
       "            (LayerNorm): BertLayerNorm()\n",
       "            (dropout): Dropout(p=0.0)\n",
       "          )\n",
       "        )\n",
       "        (5): BertLayer(\n",
       "          (attention): BertAttention(\n",
       "            (self): BertSelfAttention(\n",
       "              (query): Linear(in_features=768, out_features=768, bias=True)\n",
       "              (key): Linear(in_features=768, out_features=768, bias=True)\n",
       "              (value): Linear(in_features=768, out_features=768, bias=True)\n",
       "              (dropout): Dropout(p=0.0)\n",
       "            )\n",
       "            (output): BertSelfOutput(\n",
       "              (dense): Linear(in_features=768, out_features=768, bias=True)\n",
       "              (LayerNorm): BertLayerNorm()\n",
       "              (dropout): Dropout(p=0.0)\n",
       "            )\n",
       "          )\n",
       "          (intermediate): BertIntermediate(\n",
       "            (dense): Linear(in_features=768, out_features=3072, bias=True)\n",
       "          )\n",
       "          (output): BertOutput(\n",
       "            (dense): Linear(in_features=3072, out_features=768, bias=True)\n",
       "            (LayerNorm): BertLayerNorm()\n",
       "            (dropout): Dropout(p=0.0)\n",
       "          )\n",
       "        )\n",
       "        (6): BertLayer(\n",
       "          (attention): BertAttention(\n",
       "            (self): BertSelfAttention(\n",
       "              (query): Linear(in_features=768, out_features=768, bias=True)\n",
       "              (key): Linear(in_features=768, out_features=768, bias=True)\n",
       "              (value): Linear(in_features=768, out_features=768, bias=True)\n",
       "              (dropout): Dropout(p=0.0)\n",
       "            )\n",
       "            (output): BertSelfOutput(\n",
       "              (dense): Linear(in_features=768, out_features=768, bias=True)\n",
       "              (LayerNorm): BertLayerNorm()\n",
       "              (dropout): Dropout(p=0.0)\n",
       "            )\n",
       "          )\n",
       "          (intermediate): BertIntermediate(\n",
       "            (dense): Linear(in_features=768, out_features=3072, bias=True)\n",
       "          )\n",
       "          (output): BertOutput(\n",
       "            (dense): Linear(in_features=3072, out_features=768, bias=True)\n",
       "            (LayerNorm): BertLayerNorm()\n",
       "            (dropout): Dropout(p=0.0)\n",
       "          )\n",
       "        )\n",
       "        (7): BertLayer(\n",
       "          (attention): BertAttention(\n",
       "            (self): BertSelfAttention(\n",
       "              (query): Linear(in_features=768, out_features=768, bias=True)\n",
       "              (key): Linear(in_features=768, out_features=768, bias=True)\n",
       "              (value): Linear(in_features=768, out_features=768, bias=True)\n",
       "              (dropout): Dropout(p=0.0)\n",
       "            )\n",
       "            (output): BertSelfOutput(\n",
       "              (dense): Linear(in_features=768, out_features=768, bias=True)\n",
       "              (LayerNorm): BertLayerNorm()\n",
       "              (dropout): Dropout(p=0.0)\n",
       "            )\n",
       "          )\n",
       "          (intermediate): BertIntermediate(\n",
       "            (dense): Linear(in_features=768, out_features=3072, bias=True)\n",
       "          )\n",
       "          (output): BertOutput(\n",
       "            (dense): Linear(in_features=3072, out_features=768, bias=True)\n",
       "            (LayerNorm): BertLayerNorm()\n",
       "            (dropout): Dropout(p=0.0)\n",
       "          )\n",
       "        )\n",
       "        (8): BertLayer(\n",
       "          (attention): BertAttention(\n",
       "            (self): BertSelfAttention(\n",
       "              (query): Linear(in_features=768, out_features=768, bias=True)\n",
       "              (key): Linear(in_features=768, out_features=768, bias=True)\n",
       "              (value): Linear(in_features=768, out_features=768, bias=True)\n",
       "              (dropout): Dropout(p=0.0)\n",
       "            )\n",
       "            (output): BertSelfOutput(\n",
       "              (dense): Linear(in_features=768, out_features=768, bias=True)\n",
       "              (LayerNorm): BertLayerNorm()\n",
       "              (dropout): Dropout(p=0.0)\n",
       "            )\n",
       "          )\n",
       "          (intermediate): BertIntermediate(\n",
       "            (dense): Linear(in_features=768, out_features=3072, bias=True)\n",
       "          )\n",
       "          (output): BertOutput(\n",
       "            (dense): Linear(in_features=3072, out_features=768, bias=True)\n",
       "            (LayerNorm): BertLayerNorm()\n",
       "            (dropout): Dropout(p=0.0)\n",
       "          )\n",
       "        )\n",
       "        (9): BertLayer(\n",
       "          (attention): BertAttention(\n",
       "            (self): BertSelfAttention(\n",
       "              (query): Linear(in_features=768, out_features=768, bias=True)\n",
       "              (key): Linear(in_features=768, out_features=768, bias=True)\n",
       "              (value): Linear(in_features=768, out_features=768, bias=True)\n",
       "              (dropout): Dropout(p=0.0)\n",
       "            )\n",
       "            (output): BertSelfOutput(\n",
       "              (dense): Linear(in_features=768, out_features=768, bias=True)\n",
       "              (LayerNorm): BertLayerNorm()\n",
       "              (dropout): Dropout(p=0.0)\n",
       "            )\n",
       "          )\n",
       "          (intermediate): BertIntermediate(\n",
       "            (dense): Linear(in_features=768, out_features=3072, bias=True)\n",
       "          )\n",
       "          (output): BertOutput(\n",
       "            (dense): Linear(in_features=3072, out_features=768, bias=True)\n",
       "            (LayerNorm): BertLayerNorm()\n",
       "            (dropout): Dropout(p=0.0)\n",
       "          )\n",
       "        )\n",
       "        (10): BertLayer(\n",
       "          (attention): BertAttention(\n",
       "            (self): BertSelfAttention(\n",
       "              (query): Linear(in_features=768, out_features=768, bias=True)\n",
       "              (key): Linear(in_features=768, out_features=768, bias=True)\n",
       "              (value): Linear(in_features=768, out_features=768, bias=True)\n",
       "              (dropout): Dropout(p=0.0)\n",
       "            )\n",
       "            (output): BertSelfOutput(\n",
       "              (dense): Linear(in_features=768, out_features=768, bias=True)\n",
       "              (LayerNorm): BertLayerNorm()\n",
       "              (dropout): Dropout(p=0.0)\n",
       "            )\n",
       "          )\n",
       "          (intermediate): BertIntermediate(\n",
       "            (dense): Linear(in_features=768, out_features=3072, bias=True)\n",
       "          )\n",
       "          (output): BertOutput(\n",
       "            (dense): Linear(in_features=3072, out_features=768, bias=True)\n",
       "            (LayerNorm): BertLayerNorm()\n",
       "            (dropout): Dropout(p=0.0)\n",
       "          )\n",
       "        )\n",
       "        (11): BertLayer(\n",
       "          (attention): BertAttention(\n",
       "            (self): BertSelfAttention(\n",
       "              (query): Linear(in_features=768, out_features=768, bias=True)\n",
       "              (key): Linear(in_features=768, out_features=768, bias=True)\n",
       "              (value): Linear(in_features=768, out_features=768, bias=True)\n",
       "              (dropout): Dropout(p=0.0)\n",
       "            )\n",
       "            (output): BertSelfOutput(\n",
       "              (dense): Linear(in_features=768, out_features=768, bias=True)\n",
       "              (LayerNorm): BertLayerNorm()\n",
       "              (dropout): Dropout(p=0.0)\n",
       "            )\n",
       "          )\n",
       "          (intermediate): BertIntermediate(\n",
       "            (dense): Linear(in_features=768, out_features=3072, bias=True)\n",
       "          )\n",
       "          (output): BertOutput(\n",
       "            (dense): Linear(in_features=3072, out_features=768, bias=True)\n",
       "            (LayerNorm): BertLayerNorm()\n",
       "            (dropout): Dropout(p=0.0)\n",
       "          )\n",
       "        )\n",
       "      )\n",
       "    )\n",
       "    (pooler): BertPooler(\n",
       "      (dense): Linear(in_features=768, out_features=768, bias=True)\n",
       "      (activation): Tanh()\n",
       "    )\n",
       "  )\n",
       "  (cls): BertOnlyMLMHead(\n",
       "    (predictions): BertLMPredictionHead(\n",
       "      (transform): BertPredictionHeadTransform(\n",
       "        (dense): Linear(in_features=768, out_features=768, bias=True)\n",
       "        (LayerNorm): BertLayerNorm()\n",
       "      )\n",
       "      (decoder): Linear(in_features=768, out_features=30522, bias=False)\n",
       "    )\n",
       "  )\n",
       ")"
      ]
     },
     "execution_count": 11,
     "metadata": {},
     "output_type": "execute_result"
    }
   ],
   "source": [
    "masked_lm"
   ]
  },
  {
   "cell_type": "markdown",
   "metadata": {},
   "source": [
    "Freeze positional embeddings"
   ]
  },
  {
   "cell_type": "code",
   "execution_count": 12,
   "metadata": {},
   "outputs": [],
   "source": [
    "masked_lm.bert.embeddings.position_embeddings.requires_grad = False\n",
    "masked_lm.bert.embeddings.token_type_embeddings.requires_grad = False"
   ]
  },
  {
   "cell_type": "markdown",
   "metadata": {},
   "source": [
    "Freeze layer norm"
   ]
  },
  {
   "cell_type": "code",
   "execution_count": 13,
   "metadata": {},
   "outputs": [],
   "source": [
    "for k, v in masked_lm.named_parameters():\n",
    "    if \"LayerNorm\" in k: v.requires_grad = False"
   ]
  },
  {
   "cell_type": "code",
   "execution_count": null,
   "metadata": {},
   "outputs": [],
   "source": []
  },
  {
   "cell_type": "code",
   "execution_count": null,
   "metadata": {},
   "outputs": [],
   "source": []
  },
  {
   "cell_type": "markdown",
   "metadata": {},
   "source": [
    "# The Dataset"
   ]
  },
  {
   "cell_type": "code",
   "execution_count": 14,
   "metadata": {},
   "outputs": [],
   "source": [
    "from allennlp.data.token_indexers import PretrainedBertIndexer\n",
    "\n",
    "def flatten(x: List[List[T]]) -> List[T]:\n",
    "        return [item for sublist in x for item in sublist]\n",
    "\n",
    "token_indexer = PretrainedBertIndexer(\n",
    "    pretrained_model=config.model_type,\n",
    "    max_pieces=config.max_seq_len,\n",
    "    do_lowercase=True,\n",
    " )\n",
    "\n",
    "def tokenizer(s: str):\n",
    "    maxlen = config.max_seq_len - 2\n",
    "    toks = token_indexer.wordpiece_tokenizer(s)[:maxlen]\n",
    "    if len(toks) < maxlen:\n",
    "        return toks + ([\"[PAD]\"] * (maxlen - len(toks)))\n",
    "    else:\n",
    "        return toks"
   ]
  },
  {
   "cell_type": "code",
   "execution_count": 15,
   "metadata": {},
   "outputs": [],
   "source": [
    "def to_np(t): return t.detach().cpu().numpy()\n",
    "\n",
    "def to_words(arr):\n",
    "    if len(arr.shape) > 1:\n",
    "        return [to_words(a) for a in arr]\n",
    "    else:\n",
    "        arr = to_np(arr)\n",
    "        return \" \".join([itot(i) for i in arr])"
   ]
  },
  {
   "cell_type": "code",
   "execution_count": 16,
   "metadata": {},
   "outputs": [],
   "source": [
    "rev_vocab = {v: k for k, v in token_indexer.vocab.items()}\n",
    "\n",
    "def ttoi(t: str): return token_indexer.vocab[t]\n",
    "def itot(i: int): return rev_vocab[i]"
   ]
  },
  {
   "cell_type": "code",
   "execution_count": 17,
   "metadata": {},
   "outputs": [],
   "source": [
    "from allennlp.data.vocabulary import Vocabulary\n",
    "global_vocab = Vocabulary()"
   ]
  },
  {
   "cell_type": "code",
   "execution_count": null,
   "metadata": {},
   "outputs": [],
   "source": []
  },
  {
   "cell_type": "code",
   "execution_count": 18,
   "metadata": {},
   "outputs": [],
   "source": [
    "# # record the prior\n",
    "# with torch.no_grad():\n",
    "#     bert_input = (self.token_indexers[\"tokens\"]\n",
    "#                   .tokens_to_indices(input_toks, global_vocab, \"tokens\"))\n",
    "#     token_ids = torch.LongTensor(bert_input[\"tokens\"]).unsqueeze(0)"
   ]
  },
  {
   "cell_type": "code",
   "execution_count": null,
   "metadata": {},
   "outputs": [],
   "source": []
  },
  {
   "cell_type": "markdown",
   "metadata": {},
   "source": [
    "### Dataset"
   ]
  },
  {
   "cell_type": "code",
   "execution_count": 19,
   "metadata": {},
   "outputs": [],
   "source": [
    "import csv\n",
    "from allennlp.data import DatasetReader, Instance, Token\n",
    "from allennlp.data.fields import (TextField, SequenceLabelField, LabelField, \n",
    "                                  MetadataField, ArrayField)\n",
    "\n",
    "class LongArrayField(ArrayField):\n",
    "    @overrides\n",
    "    def as_tensor(self, padding_lengths: Dict[str, int]) -> torch.Tensor:\n",
    "        tensor = torch.from_numpy(self.array)\n",
    "        return tensor\n",
    "    \n",
    "class FloatArrayField(ArrayField):\n",
    "    @overrides\n",
    "    def as_tensor(self, padding_lengths: Dict[str, int]) -> torch.FloatTensor:\n",
    "        tensor = torch.FloatTensor(self.array)\n",
    "        return tensor\n",
    "\n",
    "class DebiasingDatasetReader(DatasetReader):\n",
    "    def __init__(self, tokenizer, token_indexers, \n",
    "                 prior_precomputed: bool=False) -> None:\n",
    "        super().__init__(lazy=False)\n",
    "        self.tokenizer = tokenizer\n",
    "        self.token_indexers = token_indexers\n",
    "        self.vocab = token_indexers[\"tokens\"].vocab\n",
    "        self._prior_precomputed = prior_precomputed\n",
    "\n",
    "    def _proc(self, x):\n",
    "        if x == \"[MASK]\" or x == \"[PAD]\": return x\n",
    "        else: return x.lower()\n",
    "        \n",
    "    @overrides\n",
    "    def text_to_instance(self, tokens: List[str], w1: str, w2: str, \n",
    "                         p1: Optional[float], p2: Optional[float]) -> Instance:\n",
    "        fields = {}\n",
    "        input_toks = [Token(self._proc(x)) for x in tokens]\n",
    "        fields[\"input\"] = TextField(input_toks, self.token_indexers)        \n",
    "        # take [CLS] token into account\n",
    "        mask_position = tokens.index(\"[MASK]\") + 1\n",
    "        fields[\"mask_positions\"] = LongArrayField(\n",
    "            np.array(mask_position, dtype=np.int64),\n",
    "         )\n",
    "        fields[\"target_ids\"] = LongArrayField(np.array([\n",
    "            self.vocab[w1], self.vocab[w2],\n",
    "        ], dtype=np.int64))\n",
    "                \n",
    "        if self._prior_precomputed:\n",
    "            fields[\"prior_prob_sum\"] = FloatArrayField(np.array(p1 + p2, dtype=np.float32))\n",
    "        else:\n",
    "            with torch.no_grad():\n",
    "                bert_input = (self.token_indexers[\"tokens\"]\n",
    "                              .tokens_to_indices(input_toks, global_vocab, \"tokens\"))\n",
    "                token_ids = torch.LongTensor(bert_input[\"tokens\"]).unsqueeze(0)\n",
    "                probs = masked_lm(token_ids)[0, mask_position, :].detach().numpy()\n",
    "                probs = (probs - probs.max())\n",
    "                probs = probs.exp() / probs.exp().sum()\n",
    "                fields[\"prior_prob_sum\"] = \\\n",
    "                    FloatArrayField(np.array(probs[self.vocab[w1]] + probs[self.vocab[w2]],\n",
    "                               dtype=np.float32))\n",
    "            \n",
    "        return Instance(fields)\n",
    "    \n",
    "    @overrides\n",
    "    def _read(self, file_path: str) -> Iterator[Instance]:\n",
    "        p1, p2 = 0., 0.\n",
    "        with open(file_path, \"rt\") as f:\n",
    "            reader = csv.reader(f)\n",
    "            for row in reader:\n",
    "                if self._prior_precomputed: sentence, w1, w2, p1, p2 = row\n",
    "                else: sentence, w1, w2 = row\n",
    "                yield self.text_to_instance(\n",
    "                    self.tokenizer(sentence), \n",
    "                    w1, w2, # words\n",
    "                    float(p1), float(p2), # prior probs\n",
    "                )"
   ]
  },
  {
   "cell_type": "code",
   "execution_count": 20,
   "metadata": {},
   "outputs": [
    {
     "name": "stderr",
     "output_type": "stream",
     "text": [
      "1000it [00:00, 20418.58it/s]\n",
      "1000it [00:00, 7325.53it/s]\n"
     ]
    }
   ],
   "source": [
    "reader = DebiasingDatasetReader(tokenizer=tokenizer, \n",
    "                                token_indexers={\"tokens\": token_indexer},\n",
    "                                prior_precomputed=config.prior_precomputed)\n",
    "train_ds, val_ds = (reader.read(DATA_ROOT / fname) for fname in [\"sample_w_probs.csv\", \"sample_w_probs.csv\"])"
   ]
  },
  {
   "cell_type": "code",
   "execution_count": 21,
   "metadata": {},
   "outputs": [
    {
     "data": {
      "text/plain": [
       "{'tokens': [[MASK],\n",
       "  is,\n",
       "  a,\n",
       "  nurse,\n",
       "  [PAD],\n",
       "  [PAD],\n",
       "  [PAD],\n",
       "  [PAD],\n",
       "  [PAD],\n",
       "  [PAD],\n",
       "  [PAD],\n",
       "  [PAD],\n",
       "  [PAD],\n",
       "  [PAD],\n",
       "  [PAD],\n",
       "  [PAD],\n",
       "  [PAD],\n",
       "  [PAD],\n",
       "  [PAD],\n",
       "  [PAD],\n",
       "  [PAD],\n",
       "  [PAD]],\n",
       " '_token_indexers': {'tokens': <allennlp.data.token_indexers.wordpiece_indexer.PretrainedBertIndexer at 0x1a35070240>},\n",
       " '_indexed_tokens': None,\n",
       " '_indexer_name_to_indexed_token': None}"
      ]
     },
     "execution_count": 21,
     "metadata": {},
     "output_type": "execute_result"
    }
   ],
   "source": [
    "vars(train_ds[0].fields[\"input\"])"
   ]
  },
  {
   "cell_type": "code",
   "execution_count": null,
   "metadata": {},
   "outputs": [],
   "source": []
  },
  {
   "cell_type": "markdown",
   "metadata": {},
   "source": [
    "### Data Iterator"
   ]
  },
  {
   "cell_type": "code",
   "execution_count": 22,
   "metadata": {},
   "outputs": [],
   "source": [
    "from allennlp.data.iterators import BasicIterator\n",
    "\n",
    "iterator = BasicIterator(\n",
    "        batch_size=config.batch_size, \n",
    "    )\n",
    "iterator.index_with(global_vocab)"
   ]
  },
  {
   "cell_type": "markdown",
   "metadata": {},
   "source": [
    "Sanity check"
   ]
  },
  {
   "cell_type": "code",
   "execution_count": 23,
   "metadata": {},
   "outputs": [],
   "source": [
    "batch = next(iter(iterator(train_ds)))"
   ]
  },
  {
   "cell_type": "code",
   "execution_count": 24,
   "metadata": {},
   "outputs": [
    {
     "data": {
      "text/plain": [
       "{'input': {'tokens': tensor([[  101,   103,  2003,  1037, 20273,     0,     0,     0,     0,     0,\n",
       "               0,     0,     0,     0,     0,     0,     0,     0,     0,     0,\n",
       "               0,     0,     0,   102],\n",
       "          [  101,   103,  2003,  1037,  2160, 28478,     0,     0,     0,     0,\n",
       "               0,     0,     0,     0,     0,     0,     0,     0,     0,     0,\n",
       "               0,     0,     0,   102],\n",
       "          [  101,   103,  2003,  4795,     0,     0,     0,     0,     0,     0,\n",
       "               0,     0,     0,     0,     0,     0,     0,     0,     0,     0,\n",
       "               0,     0,     0,   102],\n",
       "          [  101,   103,  2003,  1037,  6821,     0,     0,     0,     0,     0,\n",
       "               0,     0,     0,     0,     0,     0,     0,     0,     0,     0,\n",
       "               0,     0,     0,   102],\n",
       "          [  101,   103,  2003,  1037, 20273,     0,     0,     0,     0,     0,\n",
       "               0,     0,     0,     0,     0,     0,     0,     0,     0,     0,\n",
       "               0,     0,     0,   102],\n",
       "          [  101,   103,  2003,  1037, 20273,     0,     0,     0,     0,     0,\n",
       "               0,     0,     0,     0,     0,     0,     0,     0,     0,     0,\n",
       "               0,     0,     0,   102],\n",
       "          [  101,   103,  2003,  6355,     0,     0,     0,     0,     0,     0,\n",
       "               0,     0,     0,     0,     0,     0,     0,     0,     0,     0,\n",
       "               0,     0,     0,   102],\n",
       "          [  101,   103,  2003,  1037,  7155,     0,     0,     0,     0,     0,\n",
       "               0,     0,     0,     0,     0,     0,     0,     0,     0,     0,\n",
       "               0,     0,     0,   102],\n",
       "          [  101,   103,  2003,  2496,     0,     0,     0,     0,     0,     0,\n",
       "               0,     0,     0,     0,     0,     0,     0,     0,     0,     0,\n",
       "               0,     0,     0,   102],\n",
       "          [  101,   103,  2003,  6355,     0,     0,     0,     0,     0,     0,\n",
       "               0,     0,     0,     0,     0,     0,     0,     0,     0,     0,\n",
       "               0,     0,     0,   102],\n",
       "          [  101,   103,  2003,  4795,     0,     0,     0,     0,     0,     0,\n",
       "               0,     0,     0,     0,     0,     0,     0,     0,     0,     0,\n",
       "               0,     0,     0,   102],\n",
       "          [  101,   103,  2003,  1037, 20273,     0,     0,     0,     0,     0,\n",
       "               0,     0,     0,     0,     0,     0,     0,     0,     0,     0,\n",
       "               0,     0,     0,   102],\n",
       "          [  101,   103,  2003,  1037,  7155,     0,     0,     0,     0,     0,\n",
       "               0,     0,     0,     0,     0,     0,     0,     0,     0,     0,\n",
       "               0,     0,     0,   102],\n",
       "          [  101,   103,  2003,  1037,  3899,     0,     0,     0,     0,     0,\n",
       "               0,     0,     0,     0,     0,     0,     0,     0,     0,     0,\n",
       "               0,     0,     0,   102],\n",
       "          [  101,   103,  2003,  1037,  2269,     0,     0,     0,     0,     0,\n",
       "               0,     0,     0,     0,     0,     0,     0,     0,     0,     0,\n",
       "               0,     0,     0,   102],\n",
       "          [  101,   103,  2003,  1037,  2160, 28478,     0,     0,     0,     0,\n",
       "               0,     0,     0,     0,     0,     0,     0,     0,     0,     0,\n",
       "               0,     0,     0,   102],\n",
       "          [  101,   103,  2003,  1037, 20273,     0,     0,     0,     0,     0,\n",
       "               0,     0,     0,     0,     0,     0,     0,     0,     0,     0,\n",
       "               0,     0,     0,   102],\n",
       "          [  101,   103,  2003,  1037,  2269,     0,     0,     0,     0,     0,\n",
       "               0,     0,     0,     0,     0,     0,     0,     0,     0,     0,\n",
       "               0,     0,     0,   102],\n",
       "          [  101,   103,  2003,  3376,     0,     0,     0,     0,     0,     0,\n",
       "               0,     0,     0,     0,     0,     0,     0,     0,     0,     0,\n",
       "               0,     0,     0,   102],\n",
       "          [  101,   103,  2003,  1037,  2269,     0,     0,     0,     0,     0,\n",
       "               0,     0,     0,     0,     0,     0,     0,     0,     0,     0,\n",
       "               0,     0,     0,   102],\n",
       "          [  101,   103,  2003,  6355,     0,     0,     0,     0,     0,     0,\n",
       "               0,     0,     0,     0,     0,     0,     0,     0,     0,     0,\n",
       "               0,     0,     0,   102],\n",
       "          [  101,   103,  2003,  1037,  2388,     0,     0,     0,     0,     0,\n",
       "               0,     0,     0,     0,     0,     0,     0,     0,     0,     0,\n",
       "               0,     0,     0,   102],\n",
       "          [  101,   103,  2003,  1037,  2269,     0,     0,     0,     0,     0,\n",
       "               0,     0,     0,     0,     0,     0,     0,     0,     0,     0,\n",
       "               0,     0,     0,   102],\n",
       "          [  101,   103,  2003,  4795,     0,     0,     0,     0,     0,     0,\n",
       "               0,     0,     0,     0,     0,     0,     0,     0,     0,     0,\n",
       "               0,     0,     0,   102],\n",
       "          [  101,   103,  2003,  1037,  2160, 28478,     0,     0,     0,     0,\n",
       "               0,     0,     0,     0,     0,     0,     0,     0,     0,     0,\n",
       "               0,     0,     0,   102],\n",
       "          [  101,   103,  2003,  1037,  7155,     0,     0,     0,     0,     0,\n",
       "               0,     0,     0,     0,     0,     0,     0,     0,     0,     0,\n",
       "               0,     0,     0,   102],\n",
       "          [  101,   103,  2003,  1037,  6821,     0,     0,     0,     0,     0,\n",
       "               0,     0,     0,     0,     0,     0,     0,     0,     0,     0,\n",
       "               0,     0,     0,   102],\n",
       "          [  101,   103,  2003,  1037,  2388,     0,     0,     0,     0,     0,\n",
       "               0,     0,     0,     0,     0,     0,     0,     0,     0,     0,\n",
       "               0,     0,     0,   102],\n",
       "          [  101,   103,  2003,  1037,  7155,     0,     0,     0,     0,     0,\n",
       "               0,     0,     0,     0,     0,     0,     0,     0,     0,     0,\n",
       "               0,     0,     0,   102],\n",
       "          [  101,   103,  2003,  2496,     0,     0,     0,     0,     0,     0,\n",
       "               0,     0,     0,     0,     0,     0,     0,     0,     0,     0,\n",
       "               0,     0,     0,   102],\n",
       "          [  101,   103,  2003,  6355,     0,     0,     0,     0,     0,     0,\n",
       "               0,     0,     0,     0,     0,     0,     0,     0,     0,     0,\n",
       "               0,     0,     0,   102],\n",
       "          [  101,   103,  2003,  1037,  2388,     0,     0,     0,     0,     0,\n",
       "               0,     0,     0,     0,     0,     0,     0,     0,     0,     0,\n",
       "               0,     0,     0,   102]]),\n",
       "  'tokens-offsets': tensor([[ 1,  2,  3,  4,  5,  6,  7,  8,  9, 10, 11, 12, 13, 14, 15, 16, 17, 18,\n",
       "           19, 20, 21, 22],\n",
       "          [ 1,  2,  3,  4,  5,  6,  7,  8,  9, 10, 11, 12, 13, 14, 15, 16, 17, 18,\n",
       "           19, 20, 21, 22],\n",
       "          [ 1,  2,  3,  4,  5,  6,  7,  8,  9, 10, 11, 12, 13, 14, 15, 16, 17, 18,\n",
       "           19, 20, 21, 22],\n",
       "          [ 1,  2,  3,  4,  5,  6,  7,  8,  9, 10, 11, 12, 13, 14, 15, 16, 17, 18,\n",
       "           19, 20, 21, 22],\n",
       "          [ 1,  2,  3,  4,  5,  6,  7,  8,  9, 10, 11, 12, 13, 14, 15, 16, 17, 18,\n",
       "           19, 20, 21, 22],\n",
       "          [ 1,  2,  3,  4,  5,  6,  7,  8,  9, 10, 11, 12, 13, 14, 15, 16, 17, 18,\n",
       "           19, 20, 21, 22],\n",
       "          [ 1,  2,  3,  4,  5,  6,  7,  8,  9, 10, 11, 12, 13, 14, 15, 16, 17, 18,\n",
       "           19, 20, 21, 22],\n",
       "          [ 1,  2,  3,  4,  5,  6,  7,  8,  9, 10, 11, 12, 13, 14, 15, 16, 17, 18,\n",
       "           19, 20, 21, 22],\n",
       "          [ 1,  2,  3,  4,  5,  6,  7,  8,  9, 10, 11, 12, 13, 14, 15, 16, 17, 18,\n",
       "           19, 20, 21, 22],\n",
       "          [ 1,  2,  3,  4,  5,  6,  7,  8,  9, 10, 11, 12, 13, 14, 15, 16, 17, 18,\n",
       "           19, 20, 21, 22],\n",
       "          [ 1,  2,  3,  4,  5,  6,  7,  8,  9, 10, 11, 12, 13, 14, 15, 16, 17, 18,\n",
       "           19, 20, 21, 22],\n",
       "          [ 1,  2,  3,  4,  5,  6,  7,  8,  9, 10, 11, 12, 13, 14, 15, 16, 17, 18,\n",
       "           19, 20, 21, 22],\n",
       "          [ 1,  2,  3,  4,  5,  6,  7,  8,  9, 10, 11, 12, 13, 14, 15, 16, 17, 18,\n",
       "           19, 20, 21, 22],\n",
       "          [ 1,  2,  3,  4,  5,  6,  7,  8,  9, 10, 11, 12, 13, 14, 15, 16, 17, 18,\n",
       "           19, 20, 21, 22],\n",
       "          [ 1,  2,  3,  4,  5,  6,  7,  8,  9, 10, 11, 12, 13, 14, 15, 16, 17, 18,\n",
       "           19, 20, 21, 22],\n",
       "          [ 1,  2,  3,  4,  5,  6,  7,  8,  9, 10, 11, 12, 13, 14, 15, 16, 17, 18,\n",
       "           19, 20, 21, 22],\n",
       "          [ 1,  2,  3,  4,  5,  6,  7,  8,  9, 10, 11, 12, 13, 14, 15, 16, 17, 18,\n",
       "           19, 20, 21, 22],\n",
       "          [ 1,  2,  3,  4,  5,  6,  7,  8,  9, 10, 11, 12, 13, 14, 15, 16, 17, 18,\n",
       "           19, 20, 21, 22],\n",
       "          [ 1,  2,  3,  4,  5,  6,  7,  8,  9, 10, 11, 12, 13, 14, 15, 16, 17, 18,\n",
       "           19, 20, 21, 22],\n",
       "          [ 1,  2,  3,  4,  5,  6,  7,  8,  9, 10, 11, 12, 13, 14, 15, 16, 17, 18,\n",
       "           19, 20, 21, 22],\n",
       "          [ 1,  2,  3,  4,  5,  6,  7,  8,  9, 10, 11, 12, 13, 14, 15, 16, 17, 18,\n",
       "           19, 20, 21, 22],\n",
       "          [ 1,  2,  3,  4,  5,  6,  7,  8,  9, 10, 11, 12, 13, 14, 15, 16, 17, 18,\n",
       "           19, 20, 21, 22],\n",
       "          [ 1,  2,  3,  4,  5,  6,  7,  8,  9, 10, 11, 12, 13, 14, 15, 16, 17, 18,\n",
       "           19, 20, 21, 22],\n",
       "          [ 1,  2,  3,  4,  5,  6,  7,  8,  9, 10, 11, 12, 13, 14, 15, 16, 17, 18,\n",
       "           19, 20, 21, 22],\n",
       "          [ 1,  2,  3,  4,  5,  6,  7,  8,  9, 10, 11, 12, 13, 14, 15, 16, 17, 18,\n",
       "           19, 20, 21, 22],\n",
       "          [ 1,  2,  3,  4,  5,  6,  7,  8,  9, 10, 11, 12, 13, 14, 15, 16, 17, 18,\n",
       "           19, 20, 21, 22],\n",
       "          [ 1,  2,  3,  4,  5,  6,  7,  8,  9, 10, 11, 12, 13, 14, 15, 16, 17, 18,\n",
       "           19, 20, 21, 22],\n",
       "          [ 1,  2,  3,  4,  5,  6,  7,  8,  9, 10, 11, 12, 13, 14, 15, 16, 17, 18,\n",
       "           19, 20, 21, 22],\n",
       "          [ 1,  2,  3,  4,  5,  6,  7,  8,  9, 10, 11, 12, 13, 14, 15, 16, 17, 18,\n",
       "           19, 20, 21, 22],\n",
       "          [ 1,  2,  3,  4,  5,  6,  7,  8,  9, 10, 11, 12, 13, 14, 15, 16, 17, 18,\n",
       "           19, 20, 21, 22],\n",
       "          [ 1,  2,  3,  4,  5,  6,  7,  8,  9, 10, 11, 12, 13, 14, 15, 16, 17, 18,\n",
       "           19, 20, 21, 22],\n",
       "          [ 1,  2,  3,  4,  5,  6,  7,  8,  9, 10, 11, 12, 13, 14, 15, 16, 17, 18,\n",
       "           19, 20, 21, 22]]),\n",
       "  'tokens-type-ids': tensor([[0, 0, 0, 0, 0, 0, 0, 0, 0, 0, 0, 0, 0, 0, 0, 0, 0, 0, 0, 0, 0, 0, 0, 0],\n",
       "          [0, 0, 0, 0, 0, 0, 0, 0, 0, 0, 0, 0, 0, 0, 0, 0, 0, 0, 0, 0, 0, 0, 0, 0],\n",
       "          [0, 0, 0, 0, 0, 0, 0, 0, 0, 0, 0, 0, 0, 0, 0, 0, 0, 0, 0, 0, 0, 0, 0, 0],\n",
       "          [0, 0, 0, 0, 0, 0, 0, 0, 0, 0, 0, 0, 0, 0, 0, 0, 0, 0, 0, 0, 0, 0, 0, 0],\n",
       "          [0, 0, 0, 0, 0, 0, 0, 0, 0, 0, 0, 0, 0, 0, 0, 0, 0, 0, 0, 0, 0, 0, 0, 0],\n",
       "          [0, 0, 0, 0, 0, 0, 0, 0, 0, 0, 0, 0, 0, 0, 0, 0, 0, 0, 0, 0, 0, 0, 0, 0],\n",
       "          [0, 0, 0, 0, 0, 0, 0, 0, 0, 0, 0, 0, 0, 0, 0, 0, 0, 0, 0, 0, 0, 0, 0, 0],\n",
       "          [0, 0, 0, 0, 0, 0, 0, 0, 0, 0, 0, 0, 0, 0, 0, 0, 0, 0, 0, 0, 0, 0, 0, 0],\n",
       "          [0, 0, 0, 0, 0, 0, 0, 0, 0, 0, 0, 0, 0, 0, 0, 0, 0, 0, 0, 0, 0, 0, 0, 0],\n",
       "          [0, 0, 0, 0, 0, 0, 0, 0, 0, 0, 0, 0, 0, 0, 0, 0, 0, 0, 0, 0, 0, 0, 0, 0],\n",
       "          [0, 0, 0, 0, 0, 0, 0, 0, 0, 0, 0, 0, 0, 0, 0, 0, 0, 0, 0, 0, 0, 0, 0, 0],\n",
       "          [0, 0, 0, 0, 0, 0, 0, 0, 0, 0, 0, 0, 0, 0, 0, 0, 0, 0, 0, 0, 0, 0, 0, 0],\n",
       "          [0, 0, 0, 0, 0, 0, 0, 0, 0, 0, 0, 0, 0, 0, 0, 0, 0, 0, 0, 0, 0, 0, 0, 0],\n",
       "          [0, 0, 0, 0, 0, 0, 0, 0, 0, 0, 0, 0, 0, 0, 0, 0, 0, 0, 0, 0, 0, 0, 0, 0],\n",
       "          [0, 0, 0, 0, 0, 0, 0, 0, 0, 0, 0, 0, 0, 0, 0, 0, 0, 0, 0, 0, 0, 0, 0, 0],\n",
       "          [0, 0, 0, 0, 0, 0, 0, 0, 0, 0, 0, 0, 0, 0, 0, 0, 0, 0, 0, 0, 0, 0, 0, 0],\n",
       "          [0, 0, 0, 0, 0, 0, 0, 0, 0, 0, 0, 0, 0, 0, 0, 0, 0, 0, 0, 0, 0, 0, 0, 0],\n",
       "          [0, 0, 0, 0, 0, 0, 0, 0, 0, 0, 0, 0, 0, 0, 0, 0, 0, 0, 0, 0, 0, 0, 0, 0],\n",
       "          [0, 0, 0, 0, 0, 0, 0, 0, 0, 0, 0, 0, 0, 0, 0, 0, 0, 0, 0, 0, 0, 0, 0, 0],\n",
       "          [0, 0, 0, 0, 0, 0, 0, 0, 0, 0, 0, 0, 0, 0, 0, 0, 0, 0, 0, 0, 0, 0, 0, 0],\n",
       "          [0, 0, 0, 0, 0, 0, 0, 0, 0, 0, 0, 0, 0, 0, 0, 0, 0, 0, 0, 0, 0, 0, 0, 0],\n",
       "          [0, 0, 0, 0, 0, 0, 0, 0, 0, 0, 0, 0, 0, 0, 0, 0, 0, 0, 0, 0, 0, 0, 0, 0],\n",
       "          [0, 0, 0, 0, 0, 0, 0, 0, 0, 0, 0, 0, 0, 0, 0, 0, 0, 0, 0, 0, 0, 0, 0, 0],\n",
       "          [0, 0, 0, 0, 0, 0, 0, 0, 0, 0, 0, 0, 0, 0, 0, 0, 0, 0, 0, 0, 0, 0, 0, 0],\n",
       "          [0, 0, 0, 0, 0, 0, 0, 0, 0, 0, 0, 0, 0, 0, 0, 0, 0, 0, 0, 0, 0, 0, 0, 0],\n",
       "          [0, 0, 0, 0, 0, 0, 0, 0, 0, 0, 0, 0, 0, 0, 0, 0, 0, 0, 0, 0, 0, 0, 0, 0],\n",
       "          [0, 0, 0, 0, 0, 0, 0, 0, 0, 0, 0, 0, 0, 0, 0, 0, 0, 0, 0, 0, 0, 0, 0, 0],\n",
       "          [0, 0, 0, 0, 0, 0, 0, 0, 0, 0, 0, 0, 0, 0, 0, 0, 0, 0, 0, 0, 0, 0, 0, 0],\n",
       "          [0, 0, 0, 0, 0, 0, 0, 0, 0, 0, 0, 0, 0, 0, 0, 0, 0, 0, 0, 0, 0, 0, 0, 0],\n",
       "          [0, 0, 0, 0, 0, 0, 0, 0, 0, 0, 0, 0, 0, 0, 0, 0, 0, 0, 0, 0, 0, 0, 0, 0],\n",
       "          [0, 0, 0, 0, 0, 0, 0, 0, 0, 0, 0, 0, 0, 0, 0, 0, 0, 0, 0, 0, 0, 0, 0, 0],\n",
       "          [0, 0, 0, 0, 0, 0, 0, 0, 0, 0, 0, 0, 0, 0, 0, 0, 0, 0, 0, 0, 0, 0, 0, 0]]),\n",
       "  'mask': tensor([[1, 1, 1, 1, 1, 1, 1, 1, 1, 1, 1, 1, 1, 1, 1, 1, 1, 1, 1, 1, 1, 1],\n",
       "          [1, 1, 1, 1, 1, 1, 1, 1, 1, 1, 1, 1, 1, 1, 1, 1, 1, 1, 1, 1, 1, 1],\n",
       "          [1, 1, 1, 1, 1, 1, 1, 1, 1, 1, 1, 1, 1, 1, 1, 1, 1, 1, 1, 1, 1, 1],\n",
       "          [1, 1, 1, 1, 1, 1, 1, 1, 1, 1, 1, 1, 1, 1, 1, 1, 1, 1, 1, 1, 1, 1],\n",
       "          [1, 1, 1, 1, 1, 1, 1, 1, 1, 1, 1, 1, 1, 1, 1, 1, 1, 1, 1, 1, 1, 1],\n",
       "          [1, 1, 1, 1, 1, 1, 1, 1, 1, 1, 1, 1, 1, 1, 1, 1, 1, 1, 1, 1, 1, 1],\n",
       "          [1, 1, 1, 1, 1, 1, 1, 1, 1, 1, 1, 1, 1, 1, 1, 1, 1, 1, 1, 1, 1, 1],\n",
       "          [1, 1, 1, 1, 1, 1, 1, 1, 1, 1, 1, 1, 1, 1, 1, 1, 1, 1, 1, 1, 1, 1],\n",
       "          [1, 1, 1, 1, 1, 1, 1, 1, 1, 1, 1, 1, 1, 1, 1, 1, 1, 1, 1, 1, 1, 1],\n",
       "          [1, 1, 1, 1, 1, 1, 1, 1, 1, 1, 1, 1, 1, 1, 1, 1, 1, 1, 1, 1, 1, 1],\n",
       "          [1, 1, 1, 1, 1, 1, 1, 1, 1, 1, 1, 1, 1, 1, 1, 1, 1, 1, 1, 1, 1, 1],\n",
       "          [1, 1, 1, 1, 1, 1, 1, 1, 1, 1, 1, 1, 1, 1, 1, 1, 1, 1, 1, 1, 1, 1],\n",
       "          [1, 1, 1, 1, 1, 1, 1, 1, 1, 1, 1, 1, 1, 1, 1, 1, 1, 1, 1, 1, 1, 1],\n",
       "          [1, 1, 1, 1, 1, 1, 1, 1, 1, 1, 1, 1, 1, 1, 1, 1, 1, 1, 1, 1, 1, 1],\n",
       "          [1, 1, 1, 1, 1, 1, 1, 1, 1, 1, 1, 1, 1, 1, 1, 1, 1, 1, 1, 1, 1, 1],\n",
       "          [1, 1, 1, 1, 1, 1, 1, 1, 1, 1, 1, 1, 1, 1, 1, 1, 1, 1, 1, 1, 1, 1],\n",
       "          [1, 1, 1, 1, 1, 1, 1, 1, 1, 1, 1, 1, 1, 1, 1, 1, 1, 1, 1, 1, 1, 1],\n",
       "          [1, 1, 1, 1, 1, 1, 1, 1, 1, 1, 1, 1, 1, 1, 1, 1, 1, 1, 1, 1, 1, 1],\n",
       "          [1, 1, 1, 1, 1, 1, 1, 1, 1, 1, 1, 1, 1, 1, 1, 1, 1, 1, 1, 1, 1, 1],\n",
       "          [1, 1, 1, 1, 1, 1, 1, 1, 1, 1, 1, 1, 1, 1, 1, 1, 1, 1, 1, 1, 1, 1],\n",
       "          [1, 1, 1, 1, 1, 1, 1, 1, 1, 1, 1, 1, 1, 1, 1, 1, 1, 1, 1, 1, 1, 1],\n",
       "          [1, 1, 1, 1, 1, 1, 1, 1, 1, 1, 1, 1, 1, 1, 1, 1, 1, 1, 1, 1, 1, 1],\n",
       "          [1, 1, 1, 1, 1, 1, 1, 1, 1, 1, 1, 1, 1, 1, 1, 1, 1, 1, 1, 1, 1, 1],\n",
       "          [1, 1, 1, 1, 1, 1, 1, 1, 1, 1, 1, 1, 1, 1, 1, 1, 1, 1, 1, 1, 1, 1],\n",
       "          [1, 1, 1, 1, 1, 1, 1, 1, 1, 1, 1, 1, 1, 1, 1, 1, 1, 1, 1, 1, 1, 1],\n",
       "          [1, 1, 1, 1, 1, 1, 1, 1, 1, 1, 1, 1, 1, 1, 1, 1, 1, 1, 1, 1, 1, 1],\n",
       "          [1, 1, 1, 1, 1, 1, 1, 1, 1, 1, 1, 1, 1, 1, 1, 1, 1, 1, 1, 1, 1, 1],\n",
       "          [1, 1, 1, 1, 1, 1, 1, 1, 1, 1, 1, 1, 1, 1, 1, 1, 1, 1, 1, 1, 1, 1],\n",
       "          [1, 1, 1, 1, 1, 1, 1, 1, 1, 1, 1, 1, 1, 1, 1, 1, 1, 1, 1, 1, 1, 1],\n",
       "          [1, 1, 1, 1, 1, 1, 1, 1, 1, 1, 1, 1, 1, 1, 1, 1, 1, 1, 1, 1, 1, 1],\n",
       "          [1, 1, 1, 1, 1, 1, 1, 1, 1, 1, 1, 1, 1, 1, 1, 1, 1, 1, 1, 1, 1, 1],\n",
       "          [1, 1, 1, 1, 1, 1, 1, 1, 1, 1, 1, 1, 1, 1, 1, 1, 1, 1, 1, 1, 1, 1]])},\n",
       " 'mask_positions': tensor([1, 1, 1, 1, 1, 1, 1, 1, 1, 1, 1, 1, 1, 1, 1, 1, 1, 1, 1, 1, 1, 1, 1, 1,\n",
       "         1, 1, 1, 1, 1, 1, 1, 1]),\n",
       " 'target_ids': tensor([[2002, 2016],\n",
       "         [2002, 2016],\n",
       "         [2002, 2016],\n",
       "         [2002, 2016],\n",
       "         [2002, 2016],\n",
       "         [2002, 2016],\n",
       "         [2002, 2016],\n",
       "         [2002, 2016],\n",
       "         [2002, 2016],\n",
       "         [2002, 2016],\n",
       "         [2002, 2016],\n",
       "         [2002, 2016],\n",
       "         [2002, 2016],\n",
       "         [2002, 2016],\n",
       "         [2002, 2016],\n",
       "         [2002, 2016],\n",
       "         [2002, 2016],\n",
       "         [2002, 2016],\n",
       "         [2002, 2016],\n",
       "         [2002, 2016],\n",
       "         [2002, 2016],\n",
       "         [2002, 2016],\n",
       "         [2002, 2016],\n",
       "         [2002, 2016],\n",
       "         [2002, 2016],\n",
       "         [2002, 2016],\n",
       "         [2002, 2016],\n",
       "         [2002, 2016],\n",
       "         [2002, 2016],\n",
       "         [2002, 2016],\n",
       "         [2002, 2016],\n",
       "         [2002, 2016]]),\n",
       " 'prior_prob_sum': tensor([0.7081, 0.7716, 0.0973, 0.8073, 0.7081, 0.7081, 0.0754, 0.8485, 0.8801,\n",
       "         0.0754, 0.0973, 0.7081, 0.8485, 0.4826, 0.8075, 0.7716, 0.7081, 0.8075,\n",
       "         0.1351, 0.8075, 0.0754, 0.6561, 0.8075, 0.0973, 0.7716, 0.8485, 0.8073,\n",
       "         0.6561, 0.8485, 0.8801, 0.0754, 0.6561])}"
      ]
     },
     "execution_count": 24,
     "metadata": {},
     "output_type": "execute_result"
    }
   ],
   "source": [
    "batch"
   ]
  },
  {
   "cell_type": "code",
   "execution_count": null,
   "metadata": {},
   "outputs": [],
   "source": []
  },
  {
   "cell_type": "markdown",
   "metadata": {},
   "source": [
    "# Model and Loss"
   ]
  },
  {
   "cell_type": "markdown",
   "metadata": {},
   "source": [
    "### The loss function"
   ]
  },
  {
   "cell_type": "code",
   "execution_count": 25,
   "metadata": {},
   "outputs": [],
   "source": [
    "def mse_loss(x, y): return ((x - y) ** 2).mean()\n",
    "def mae_loss(x, y): return (x - y).abs().mean()\n",
    "class HingeLoss(nn.Module):\n",
    "    def __init__(self, margin: float=0.1):\n",
    "        super().__init__()\n",
    "        self.margin = margin\n",
    "    def forward(self, x, y):\n",
    "        return torch.relu((x - y).abs().mean() - self.margin)"
   ]
  },
  {
   "cell_type": "code",
   "execution_count": 26,
   "metadata": {},
   "outputs": [],
   "source": [
    "def neg_likelihood(ll, # (batch, )\n",
    "               prior_prob_sum, # (batch, )\n",
    "     ):\n",
    "    \"\"\"log likelihood of either of the target ids being chosen\"\"\"\n",
    "    return -ll.mean()\n",
    "\n",
    "class LogitConsistency(nn.Module):\n",
    "    def __init__(self, distance: Callable):\n",
    "        super().__init__()\n",
    "        self._distance = distance\n",
    "    \n",
    "    def forward(self, ll, # (batch, )\n",
    "                prior_prob_sum, # (batch, )\n",
    "               ):\n",
    "        \"\"\"\n",
    "        Constrains prob sum put on two words to be roughly equal\n",
    "        TODO: Provide some probabilistic/statistical interpretation\n",
    "        \"\"\"\n",
    "        d = self._distance(ll, prior_prob_sum.log())\n",
    "        return d"
   ]
  },
  {
   "cell_type": "code",
   "execution_count": 27,
   "metadata": {},
   "outputs": [],
   "source": [
    "from allennlp.training.metrics import Metric\n",
    "class TotalProbDiff(Metric):\n",
    "    def __init__(self):\n",
    "        super().__init__()\n",
    "        self._total = 0\n",
    "        self._n_obs = 0\n",
    "        \n",
    "    def __call__(self, ll, prior_prob_sum):\n",
    "        self._total += (ll.exp() - prior_prob_sum).mean().item()\n",
    "        self._n_obs += 1\n",
    "        \n",
    "    def get_metric(self, reset: bool=False):\n",
    "        mtrc = self._total / self._n_obs\n",
    "        if reset: self.reset()\n",
    "        return mtrc\n",
    "    \n",
    "    def reset(self):\n",
    "        self._total = 0\n",
    "        self._n_obs = 0"
   ]
  },
  {
   "cell_type": "code",
   "execution_count": 28,
   "metadata": {},
   "outputs": [],
   "source": [
    "class BiasLoss(nn.Module):\n",
    "    \"\"\"\n",
    "    Returns the deviation of the log odds ratio from its desired value.\n",
    "    Denoting the probs as p and q there are several options available:\n",
    "        - MSE(log p, log q)\n",
    "        - Max-margin loss\n",
    "    Most processing takes place here because there is a lot of shared heavy processing required\n",
    "    (e.g. computing partition function)\n",
    "    TODO: Add option to set the optimal log odds ratio\n",
    "    TODO: Ensure the logits do not change significantly\n",
    "    \"\"\"\n",
    "    def __init__(self, loss_func: Callable=mae_loss,\n",
    "                 consistency_loss_func: Callable=neg_likelihood,\n",
    "                 bias_weight: float=1.,\n",
    "                 consistency_weight: float=1.):\n",
    "        super().__init__()\n",
    "        self.loss_func = loss_func\n",
    "        self._consistency_loss = consistency_loss_func\n",
    "        self.consistency_weight = consistency_weight\n",
    "        self.bias_weight = bias_weight\n",
    "        self._total_prob_diff = TotalProbDiff()\n",
    "    \n",
    "    @staticmethod\n",
    "    def _log_likelihood(logits, # (batch, V)\n",
    "                        target_logits, # (batch, )\n",
    "                       ) -> torch.FloatTensor: # (batch, )\n",
    "        max_logits = logits.max(1, keepdim=True)[0] # (batch, )\n",
    "        log_exp_sum_logits = ((logits - max_logits).exp()\n",
    "                              .sum(1).log()) # (batch, )\n",
    "        # these logits should never be masked\n",
    "        log_exp_sum_correct_logits = ((target_logits - max_logits).exp()\n",
    "                                      .sum(1).log()) # (batch, )\n",
    "        return log_exp_sum_correct_logits - log_exp_sum_logits\n",
    "        \n",
    "    def forward(self, logits: torch.FloatTensor, # (batch, seq, V)\n",
    "                mask_positions: torch.LongTensor, # (batch, )\n",
    "                target_ids: torch.LongTensor, # (batch, 2)\n",
    "                prior_prob_sum: torch.FloatTensor, # (batch, )\n",
    "               ) -> torch.FloatTensor:\n",
    "        \"\"\"\n",
    "        input_ids: Numericalized tokens\n",
    "        mask_position: Positions of mask tokens\n",
    "        target_ids: Ids of target tokens to compute log odds on\n",
    "        padding_mask: padding positions\n",
    "        \"\"\"\n",
    "        bs, seq = logits.size(0), logits.size(1)\n",
    "\n",
    "        # Gather the logits for at the masked positions\n",
    "        # TODO: More efficient implementation?\n",
    "        # Gather copies the data to create a new tensor which we would rather avoid\n",
    "        sel = (mask_positions.unsqueeze(1)\n",
    "                .unsqueeze(2).expand(bs, 1, logits.size(2))) # (batch, 1, V)\n",
    "        logits_at_masked_positions = logits.gather(1, sel).squeeze(1) # (batch, V)\n",
    "        \n",
    "        # Gather the logits for the target ids\n",
    "        sel = target_ids\n",
    "        target_logits_at_masked_positions = logits_at_masked_positions.gather(1, sel).squeeze(1) # (batch, 2)\n",
    "        \n",
    "        bias_loss = self.loss_func(\n",
    "            target_logits_at_masked_positions[:, 0], # male logits\n",
    "            target_logits_at_masked_positions[:, 1], # female logits\n",
    "         )\n",
    "        \n",
    "        # compute log likelihood of either of the target ids being observed\n",
    "        ll = self._log_likelihood(logits_at_masked_positions,\n",
    "                                  target_logits_at_masked_positions)\n",
    "        \n",
    "        # enforce consistency between prior probabilities and current probabilities\n",
    "        consistency_loss = self._consistency_loss(\n",
    "            ll, prior_prob_sum,\n",
    "         )\n",
    "        out_dict = {}\n",
    "        out_dict[\"bias_loss\"] = bias_loss * self.bias_weight\n",
    "        out_dict[\"consistency_loss\"] = consistency_loss * self.consistency_weight\n",
    "        out_dict[\"loss\"] = out_dict[\"bias_loss\"] + out_dict[\"consistency_loss\"]\n",
    "        out_dict[\"total_prob_diff\"] = self._total_prob_diff(ll, prior_prob_sum)\n",
    "        return out_dict\n",
    "\n",
    "    def get_metrics(self, reset: bool = False) -> Dict[str, float]:\n",
    "        return {\"total_prob_diff\": self._total_prob_diff.get_metric(reset)}"
   ]
  },
  {
   "cell_type": "markdown",
   "metadata": {},
   "source": [
    "Sanity checks"
   ]
  },
  {
   "cell_type": "code",
   "execution_count": 29,
   "metadata": {
    "scrolled": true
   },
   "outputs": [
    {
     "data": {
      "text/plain": [
       "['[CLS] [MASK] is a programmer [PAD] [PAD] [PAD] [PAD] [PAD] [PAD] [PAD] [PAD] [PAD] [PAD] [PAD] [PAD] [PAD] [PAD] [PAD] [PAD] [PAD] [PAD] [SEP]',\n",
       " '[CLS] [MASK] is a house ##maid [PAD] [PAD] [PAD] [PAD] [PAD] [PAD] [PAD] [PAD] [PAD] [PAD] [PAD] [PAD] [PAD] [PAD] [PAD] [PAD] [PAD] [SEP]',\n",
       " '[CLS] [MASK] is dangerous [PAD] [PAD] [PAD] [PAD] [PAD] [PAD] [PAD] [PAD] [PAD] [PAD] [PAD] [PAD] [PAD] [PAD] [PAD] [PAD] [PAD] [PAD] [PAD] [SEP]',\n",
       " '[CLS] [MASK] is a nurse [PAD] [PAD] [PAD] [PAD] [PAD] [PAD] [PAD] [PAD] [PAD] [PAD] [PAD] [PAD] [PAD] [PAD] [PAD] [PAD] [PAD] [PAD] [SEP]',\n",
       " '[CLS] [MASK] is a programmer [PAD] [PAD] [PAD] [PAD] [PAD] [PAD] [PAD] [PAD] [PAD] [PAD] [PAD] [PAD] [PAD] [PAD] [PAD] [PAD] [PAD] [PAD] [SEP]',\n",
       " '[CLS] [MASK] is a programmer [PAD] [PAD] [PAD] [PAD] [PAD] [PAD] [PAD] [PAD] [PAD] [PAD] [PAD] [PAD] [PAD] [PAD] [PAD] [PAD] [PAD] [PAD] [SEP]',\n",
       " '[CLS] [MASK] is violent [PAD] [PAD] [PAD] [PAD] [PAD] [PAD] [PAD] [PAD] [PAD] [PAD] [PAD] [PAD] [PAD] [PAD] [PAD] [PAD] [PAD] [PAD] [PAD] [SEP]',\n",
       " '[CLS] [MASK] is a scientist [PAD] [PAD] [PAD] [PAD] [PAD] [PAD] [PAD] [PAD] [PAD] [PAD] [PAD] [PAD] [PAD] [PAD] [PAD] [PAD] [PAD] [PAD] [SEP]',\n",
       " '[CLS] [MASK] is married [PAD] [PAD] [PAD] [PAD] [PAD] [PAD] [PAD] [PAD] [PAD] [PAD] [PAD] [PAD] [PAD] [PAD] [PAD] [PAD] [PAD] [PAD] [PAD] [SEP]',\n",
       " '[CLS] [MASK] is violent [PAD] [PAD] [PAD] [PAD] [PAD] [PAD] [PAD] [PAD] [PAD] [PAD] [PAD] [PAD] [PAD] [PAD] [PAD] [PAD] [PAD] [PAD] [PAD] [SEP]',\n",
       " '[CLS] [MASK] is dangerous [PAD] [PAD] [PAD] [PAD] [PAD] [PAD] [PAD] [PAD] [PAD] [PAD] [PAD] [PAD] [PAD] [PAD] [PAD] [PAD] [PAD] [PAD] [PAD] [SEP]',\n",
       " '[CLS] [MASK] is a programmer [PAD] [PAD] [PAD] [PAD] [PAD] [PAD] [PAD] [PAD] [PAD] [PAD] [PAD] [PAD] [PAD] [PAD] [PAD] [PAD] [PAD] [PAD] [SEP]',\n",
       " '[CLS] [MASK] is a scientist [PAD] [PAD] [PAD] [PAD] [PAD] [PAD] [PAD] [PAD] [PAD] [PAD] [PAD] [PAD] [PAD] [PAD] [PAD] [PAD] [PAD] [PAD] [SEP]',\n",
       " '[CLS] [MASK] is a dog [PAD] [PAD] [PAD] [PAD] [PAD] [PAD] [PAD] [PAD] [PAD] [PAD] [PAD] [PAD] [PAD] [PAD] [PAD] [PAD] [PAD] [PAD] [SEP]',\n",
       " '[CLS] [MASK] is a father [PAD] [PAD] [PAD] [PAD] [PAD] [PAD] [PAD] [PAD] [PAD] [PAD] [PAD] [PAD] [PAD] [PAD] [PAD] [PAD] [PAD] [PAD] [SEP]',\n",
       " '[CLS] [MASK] is a house ##maid [PAD] [PAD] [PAD] [PAD] [PAD] [PAD] [PAD] [PAD] [PAD] [PAD] [PAD] [PAD] [PAD] [PAD] [PAD] [PAD] [PAD] [SEP]',\n",
       " '[CLS] [MASK] is a programmer [PAD] [PAD] [PAD] [PAD] [PAD] [PAD] [PAD] [PAD] [PAD] [PAD] [PAD] [PAD] [PAD] [PAD] [PAD] [PAD] [PAD] [PAD] [SEP]',\n",
       " '[CLS] [MASK] is a father [PAD] [PAD] [PAD] [PAD] [PAD] [PAD] [PAD] [PAD] [PAD] [PAD] [PAD] [PAD] [PAD] [PAD] [PAD] [PAD] [PAD] [PAD] [SEP]',\n",
       " '[CLS] [MASK] is beautiful [PAD] [PAD] [PAD] [PAD] [PAD] [PAD] [PAD] [PAD] [PAD] [PAD] [PAD] [PAD] [PAD] [PAD] [PAD] [PAD] [PAD] [PAD] [PAD] [SEP]',\n",
       " '[CLS] [MASK] is a father [PAD] [PAD] [PAD] [PAD] [PAD] [PAD] [PAD] [PAD] [PAD] [PAD] [PAD] [PAD] [PAD] [PAD] [PAD] [PAD] [PAD] [PAD] [SEP]',\n",
       " '[CLS] [MASK] is violent [PAD] [PAD] [PAD] [PAD] [PAD] [PAD] [PAD] [PAD] [PAD] [PAD] [PAD] [PAD] [PAD] [PAD] [PAD] [PAD] [PAD] [PAD] [PAD] [SEP]',\n",
       " '[CLS] [MASK] is a mother [PAD] [PAD] [PAD] [PAD] [PAD] [PAD] [PAD] [PAD] [PAD] [PAD] [PAD] [PAD] [PAD] [PAD] [PAD] [PAD] [PAD] [PAD] [SEP]',\n",
       " '[CLS] [MASK] is a father [PAD] [PAD] [PAD] [PAD] [PAD] [PAD] [PAD] [PAD] [PAD] [PAD] [PAD] [PAD] [PAD] [PAD] [PAD] [PAD] [PAD] [PAD] [SEP]',\n",
       " '[CLS] [MASK] is dangerous [PAD] [PAD] [PAD] [PAD] [PAD] [PAD] [PAD] [PAD] [PAD] [PAD] [PAD] [PAD] [PAD] [PAD] [PAD] [PAD] [PAD] [PAD] [PAD] [SEP]',\n",
       " '[CLS] [MASK] is a house ##maid [PAD] [PAD] [PAD] [PAD] [PAD] [PAD] [PAD] [PAD] [PAD] [PAD] [PAD] [PAD] [PAD] [PAD] [PAD] [PAD] [PAD] [SEP]',\n",
       " '[CLS] [MASK] is a scientist [PAD] [PAD] [PAD] [PAD] [PAD] [PAD] [PAD] [PAD] [PAD] [PAD] [PAD] [PAD] [PAD] [PAD] [PAD] [PAD] [PAD] [PAD] [SEP]',\n",
       " '[CLS] [MASK] is a nurse [PAD] [PAD] [PAD] [PAD] [PAD] [PAD] [PAD] [PAD] [PAD] [PAD] [PAD] [PAD] [PAD] [PAD] [PAD] [PAD] [PAD] [PAD] [SEP]',\n",
       " '[CLS] [MASK] is a mother [PAD] [PAD] [PAD] [PAD] [PAD] [PAD] [PAD] [PAD] [PAD] [PAD] [PAD] [PAD] [PAD] [PAD] [PAD] [PAD] [PAD] [PAD] [SEP]',\n",
       " '[CLS] [MASK] is a scientist [PAD] [PAD] [PAD] [PAD] [PAD] [PAD] [PAD] [PAD] [PAD] [PAD] [PAD] [PAD] [PAD] [PAD] [PAD] [PAD] [PAD] [PAD] [SEP]',\n",
       " '[CLS] [MASK] is married [PAD] [PAD] [PAD] [PAD] [PAD] [PAD] [PAD] [PAD] [PAD] [PAD] [PAD] [PAD] [PAD] [PAD] [PAD] [PAD] [PAD] [PAD] [PAD] [SEP]',\n",
       " '[CLS] [MASK] is violent [PAD] [PAD] [PAD] [PAD] [PAD] [PAD] [PAD] [PAD] [PAD] [PAD] [PAD] [PAD] [PAD] [PAD] [PAD] [PAD] [PAD] [PAD] [PAD] [SEP]',\n",
       " '[CLS] [MASK] is a mother [PAD] [PAD] [PAD] [PAD] [PAD] [PAD] [PAD] [PAD] [PAD] [PAD] [PAD] [PAD] [PAD] [PAD] [PAD] [PAD] [PAD] [PAD] [SEP]']"
      ]
     },
     "execution_count": 29,
     "metadata": {},
     "output_type": "execute_result"
    }
   ],
   "source": [
    "to_words(batch[\"input\"][\"tokens\"])"
   ]
  },
  {
   "cell_type": "code",
   "execution_count": 30,
   "metadata": {},
   "outputs": [
    {
     "data": {
      "text/plain": [
       "tensor([0.7081, 0.7716, 0.0973, 0.8073, 0.7081, 0.7081, 0.0754, 0.8485, 0.8801,\n",
       "        0.0754, 0.0973, 0.7081, 0.8485, 0.4826, 0.8075, 0.7716, 0.7081, 0.8075,\n",
       "        0.1351, 0.8075, 0.0754, 0.6561, 0.8075, 0.0973, 0.7716, 0.8485, 0.8073,\n",
       "        0.6561, 0.8485, 0.8801, 0.0754, 0.6561])"
      ]
     },
     "execution_count": 30,
     "metadata": {},
     "output_type": "execute_result"
    }
   ],
   "source": [
    "batch[\"prior_prob_sum\"]"
   ]
  },
  {
   "cell_type": "code",
   "execution_count": 31,
   "metadata": {},
   "outputs": [
    {
     "data": {
      "text/plain": [
       "{'bias_loss': tensor(2.0643, grad_fn=<MulBackward0>),\n",
       " 'consistency_loss': tensor(0.8132, grad_fn=<MulBackward0>),\n",
       " 'loss': tensor(2.8775, grad_fn=<AddBackward0>),\n",
       " 'total_prob_diff': None}"
      ]
     },
     "execution_count": 31,
     "metadata": {},
     "output_type": "execute_result"
    }
   ],
   "source": [
    "bias_loss = BiasLoss()\n",
    "logits = masked_lm(batch[\"input\"][\"tokens\"])\n",
    "bias_loss(logits, batch[\"mask_positions\"], batch[\"target_ids\"],\n",
    "          batch[\"prior_prob_sum\"])"
   ]
  },
  {
   "cell_type": "code",
   "execution_count": 32,
   "metadata": {},
   "outputs": [],
   "source": [
    "sentence, w1, w2 = \"[MASK] is a nurse\", \"he\", \"she\"\n",
    "\n",
    "tokens = tokenizer(sentence)\n",
    "mask_position = tokens.index(\"[MASK]\") + 1\n",
    "input_toks = [Token(w) for w in tokens]\n",
    "bert_input = (token_indexer.tokens_to_indices(input_toks, global_vocab, \"tokens\"))\n",
    "token_ids = torch.LongTensor(bert_input[\"tokens\"]).unsqueeze(0)"
   ]
  },
  {
   "cell_type": "code",
   "execution_count": 33,
   "metadata": {},
   "outputs": [],
   "source": [
    "probs = torch.softmax(logits[:, 1, :], 1)"
   ]
  },
  {
   "cell_type": "code",
   "execution_count": 34,
   "metadata": {},
   "outputs": [
    {
     "data": {
      "text/plain": [
       "tensor(0.7081, grad_fn=<AddBackward0>)"
      ]
     },
     "execution_count": 34,
     "metadata": {},
     "output_type": "execute_result"
    }
   ],
   "source": [
    "probs[0, token_indexer.vocab[w1]] + probs[0, token_indexer.vocab[w2]]"
   ]
  },
  {
   "cell_type": "code",
   "execution_count": null,
   "metadata": {},
   "outputs": [],
   "source": []
  },
  {
   "cell_type": "markdown",
   "metadata": {},
   "source": [
    "### The allennlp model (for training)"
   ]
  },
  {
   "cell_type": "code",
   "execution_count": 35,
   "metadata": {},
   "outputs": [],
   "source": [
    "from copy import deepcopy"
   ]
  },
  {
   "cell_type": "code",
   "execution_count": 36,
   "metadata": {},
   "outputs": [],
   "source": [
    "from allennlp.models import Model\n",
    "\n",
    "class BERT(Model):\n",
    "    def __init__(self, vocab, bert_for_masked_lm, loss: nn.Module=BiasLoss()):\n",
    "        super().__init__(vocab)\n",
    "        self.bert_for_masked_lm = bert_for_masked_lm\n",
    "        self.loss = loss\n",
    "    \n",
    "    def forward(self, \n",
    "                input: TensorDict,\n",
    "                mask_positions: torch.LongTensor,\n",
    "                target_ids: torch.LongTensor,\n",
    "                prior_prob_sum: torch.FloatTensor,\n",
    "            ) -> TensorDict:\n",
    "        pad_mask = (input[\"tokens\"] > 0)\n",
    "        logits = self.bert_for_masked_lm(input[\"tokens\"])\n",
    "        # most of processing takes place in loss func\n",
    "        out_dict = self.loss(logits, mask_positions, \n",
    "                             target_ids, prior_prob_sum,\n",
    "                            )\n",
    "        out_dict[\"logits\"] = logits\n",
    "        return out_dict\n",
    "    \n",
    "    def get_metrics(self, reset: bool=False):\n",
    "        return self.loss.get_metrics()"
   ]
  },
  {
   "cell_type": "code",
   "execution_count": 37,
   "metadata": {},
   "outputs": [],
   "source": [
    "logit_distance = mae_loss\n",
    "\n",
    "loss = BiasLoss(\n",
    "    loss_func=logit_distance,\n",
    "    consistency_loss_func=LogitConsistency(logit_distance),\n",
    "    bias_weight=config.bias_weight,\n",
    "    consistency_weight=config.consistency_weight,\n",
    ")\n",
    "model = BERT(global_vocab, masked_lm, loss=loss)"
   ]
  },
  {
   "cell_type": "code",
   "execution_count": 38,
   "metadata": {},
   "outputs": [],
   "source": [
    "init_dict = dict(model.state_dict())"
   ]
  },
  {
   "cell_type": "code",
   "execution_count": 39,
   "metadata": {},
   "outputs": [],
   "source": [
    "model.load_state_dict(init_dict)"
   ]
  },
  {
   "cell_type": "code",
   "execution_count": 40,
   "metadata": {},
   "outputs": [],
   "source": [
    "orig_weights = {k: deepcopy(v) for k, v in model.named_parameters()}"
   ]
  },
  {
   "cell_type": "code",
   "execution_count": null,
   "metadata": {},
   "outputs": [],
   "source": []
  },
  {
   "cell_type": "markdown",
   "metadata": {},
   "source": [
    "### Bias scores before"
   ]
  },
  {
   "cell_type": "code",
   "execution_count": 41,
   "metadata": {},
   "outputs": [],
   "source": [
    "masked_lm.eval()\n",
    "logits = masked_lm(processor.to_bert_model_input(\"[MASK] is a housemaid\"))[0, 1]"
   ]
  },
  {
   "cell_type": "code",
   "execution_count": 42,
   "metadata": {},
   "outputs": [
    {
     "data": {
      "text/plain": [
       "tensor(8.1598, grad_fn=<SelectBackward>)"
      ]
     },
     "execution_count": 42,
     "metadata": {},
     "output_type": "execute_result"
    }
   ],
   "source": [
    "logits[ttoi(\"he\")]"
   ]
  },
  {
   "cell_type": "code",
   "execution_count": 43,
   "metadata": {},
   "outputs": [
    {
     "data": {
      "text/plain": [
       "tensor(8.8144, grad_fn=<SelectBackward>)"
      ]
     },
     "execution_count": 43,
     "metadata": {},
     "output_type": "execute_result"
    }
   ],
   "source": [
    "logits[ttoi(\"she\")]"
   ]
  },
  {
   "cell_type": "code",
   "execution_count": 44,
   "metadata": {},
   "outputs": [],
   "source": [
    "probs = torch.softmax(logits.unsqueeze(0), 1).squeeze(0)"
   ]
  },
  {
   "cell_type": "code",
   "execution_count": 45,
   "metadata": {},
   "outputs": [
    {
     "data": {
      "text/plain": [
       "tensor(0.2187, grad_fn=<SelectBackward>)"
      ]
     },
     "execution_count": 45,
     "metadata": {},
     "output_type": "execute_result"
    }
   ],
   "source": [
    "probs[ttoi(\"he\")]"
   ]
  },
  {
   "cell_type": "code",
   "execution_count": 46,
   "metadata": {},
   "outputs": [
    {
     "data": {
      "text/plain": [
       "tensor(0.4208, grad_fn=<SelectBackward>)"
      ]
     },
     "execution_count": 46,
     "metadata": {},
     "output_type": "execute_result"
    }
   ],
   "source": [
    "probs[ttoi(\"she\")]"
   ]
  },
  {
   "cell_type": "markdown",
   "metadata": {},
   "source": [
    "For word not in vocab"
   ]
  },
  {
   "cell_type": "code",
   "execution_count": 47,
   "metadata": {},
   "outputs": [],
   "source": [
    "logits = masked_lm(processor.to_bert_model_input(\"[MASK] is a slut\"))[0, 1]"
   ]
  },
  {
   "cell_type": "code",
   "execution_count": 48,
   "metadata": {},
   "outputs": [
    {
     "data": {
      "text/plain": [
       "tensor(7.7761, grad_fn=<SelectBackward>)"
      ]
     },
     "execution_count": 48,
     "metadata": {},
     "output_type": "execute_result"
    }
   ],
   "source": [
    "logits[ttoi(\"he\")]"
   ]
  },
  {
   "cell_type": "code",
   "execution_count": 49,
   "metadata": {},
   "outputs": [
    {
     "data": {
      "text/plain": [
       "tensor(8.8424, grad_fn=<SelectBackward>)"
      ]
     },
     "execution_count": 49,
     "metadata": {},
     "output_type": "execute_result"
    }
   ],
   "source": [
    "logits[ttoi(\"she\")]"
   ]
  },
  {
   "cell_type": "code",
   "execution_count": 50,
   "metadata": {},
   "outputs": [],
   "source": [
    "probs = torch.softmax(logits.unsqueeze(0), 1).squeeze(0)"
   ]
  },
  {
   "cell_type": "code",
   "execution_count": 51,
   "metadata": {},
   "outputs": [
    {
     "data": {
      "text/plain": [
       "tensor(0.1566, grad_fn=<SelectBackward>)"
      ]
     },
     "execution_count": 51,
     "metadata": {},
     "output_type": "execute_result"
    }
   ],
   "source": [
    "probs[ttoi(\"he\")]"
   ]
  },
  {
   "cell_type": "code",
   "execution_count": 52,
   "metadata": {},
   "outputs": [
    {
     "data": {
      "text/plain": [
       "tensor(0.4547, grad_fn=<SelectBackward>)"
      ]
     },
     "execution_count": 52,
     "metadata": {},
     "output_type": "execute_result"
    }
   ],
   "source": [
    "probs[ttoi(\"she\")]"
   ]
  },
  {
   "cell_type": "code",
   "execution_count": null,
   "metadata": {},
   "outputs": [],
   "source": []
  },
  {
   "cell_type": "code",
   "execution_count": null,
   "metadata": {},
   "outputs": [],
   "source": []
  },
  {
   "cell_type": "markdown",
   "metadata": {},
   "source": [
    "# Training Loop"
   ]
  },
  {
   "cell_type": "code",
   "execution_count": 53,
   "metadata": {},
   "outputs": [],
   "source": [
    "from allennlp.training import Callback"
   ]
  },
  {
   "cell_type": "code",
   "execution_count": 54,
   "metadata": {},
   "outputs": [],
   "source": [
    "from copy import deepcopy\n",
    "\n",
    "class StatisticRecorder(Callback):\n",
    "    def __init__(self, orig_weights, rec_periods=5):\n",
    "        self.rec_periods = rec_periods\n",
    "        self.norms = {k: [] for k, v in model.named_parameters() if v.requires_grad}\n",
    "        self.grad_magnitudes = {k: [] for k, v in model.named_parameters() if v.requires_grad}\n",
    "        self._orig_weights = orig_weights\n",
    "        self.change_magnitudes = {k: [] for k, v in model.named_parameters() if v.requires_grad}\n",
    "        \n",
    "    def on_batch_end(self, data):\n",
    "        if (data['batches_this_epoch'] + 1) % self.rec_periods == 0:\n",
    "            with torch.no_grad():\n",
    "                for k, p in self.trainer.model.named_parameters():\n",
    "                    if p.requires_grad and p.grad is not None:\n",
    "                        Z = torch.norm(p).item()\n",
    "                        self.norms[k].append(Z)\n",
    "                        self.grad_magnitudes[k].append((torch.norm(p.grad) / Z).item())\n",
    "                        self.change_magnitudes[k].append((torch.norm(p - self._orig_weights[k]) / Z).item())"
   ]
  },
  {
   "cell_type": "code",
   "execution_count": 55,
   "metadata": {},
   "outputs": [],
   "source": [
    "class WeightDeviationRegularizor(Callback):\n",
    "    def __init__(self, orig_weights, weight=1e-4, l1=True):\n",
    "        self.orig_weights = orig_weights\n",
    "        self.weight = weight\n",
    "        self.l1 = l1\n",
    "        \n",
    "    def get_reg_term(self, now, orig):\n",
    "        if self.l1:\n",
    "            return torch.where(now < orig, torch.ones_like(now), -torch.ones_like(now))\n",
    "        else:\n",
    "            return (orig - now)\n",
    "        \n",
    "    def on_backward_end(self, data):\n",
    "        lr = config.lr\n",
    "        with torch.no_grad():\n",
    "            for name, param in self.trainer.model.named_parameters():\n",
    "                if param.requires_grad and param.grad is not None:\n",
    "                    reg_term = self.weight * lr * self.get_reg_term(param.data, orig_weights[name])\n",
    "                    param.data.add_(reg_term)"
   ]
  },
  {
   "cell_type": "code",
   "execution_count": 56,
   "metadata": {},
   "outputs": [],
   "source": [
    "stat_rec = StatisticRecorder(orig_weights, rec_periods=5)\n",
    "wdd = WeightDeviationRegularizor(orig_weights)"
   ]
  },
  {
   "cell_type": "code",
   "execution_count": 57,
   "metadata": {},
   "outputs": [],
   "source": [
    "def use(name: str):\n",
    "    if \"LayerNorm\" in name: return False\n",
    "    if \"position_embeddings\" in name: return False\n",
    "    if \"token_type\" in name: return False\n",
    "    return True"
   ]
  },
  {
   "cell_type": "code",
   "execution_count": 58,
   "metadata": {},
   "outputs": [],
   "source": [
    "filtered_params = [p for name, p in model.named_parameters() if use(name)]"
   ]
  },
  {
   "cell_type": "code",
   "execution_count": 59,
   "metadata": {},
   "outputs": [
    {
     "name": "stderr",
     "output_type": "stream",
     "text": [
      "You provided a validation dataset but patience was set to None, meaning that early stopping is disabled\n"
     ]
    }
   ],
   "source": [
    "from allennlp.training import TrainerWithCallbacks\n",
    "\n",
    "optimizer = torch.optim.Adam(filtered_params, lr=config.lr, weight_decay=0.)\n",
    "\n",
    "trainer = TrainerWithCallbacks(\n",
    "    model=model,\n",
    "    optimizer=optimizer,\n",
    "    iterator=iterator,\n",
    "    train_dataset=train_ds,\n",
    "    validation_dataset=val_ds,\n",
    "    callbacks=[stat_rec, wdd],\n",
    "#     serialization_dir=DATA_ROOT / \"debias_ckpts\",\n",
    "    cuda_device=0 if torch.cuda.is_available() else -1,\n",
    "    num_epochs=1,\n",
    ")"
   ]
  },
  {
   "cell_type": "code",
   "execution_count": 60,
   "metadata": {},
   "outputs": [
    {
     "name": "stderr",
     "output_type": "stream",
     "text": [
      "total_prob_diff: 0.0269, loss: 0.7438 ||: 100%|██████████| 32/32 [03:23<00:00,  5.31s/it]\n",
      "total_prob_diff: 0.0198, loss: 0.1878 ||: 100%|██████████| 32/32 [00:41<00:00,  1.05s/it]\n"
     ]
    },
    {
     "data": {
      "text/plain": [
       "{'best_epoch': 0,\n",
       " 'peak_cpu_memory_MB': 2341.961728,\n",
       " 'training_duration': '00:04:04',\n",
       " 'training_start_epoch': 0,\n",
       " 'training_epochs': 0,\n",
       " 'epoch': 0,\n",
       " 'training_total_prob_diff': 0.026945363024424296,\n",
       " 'training_loss': 0.7437544567510486,\n",
       " 'training_cpu_memory_MB': 2341.961728,\n",
       " 'validation_total_prob_diff': 0.01977638832977391,\n",
       " 'validation_loss': 0.18780022859573364,\n",
       " 'best_validation_total_prob_diff': 0.01977638832977391,\n",
       " 'best_validation_loss': 0.18780022859573364}"
      ]
     },
     "execution_count": 60,
     "metadata": {},
     "output_type": "execute_result"
    }
   ],
   "source": [
    "trainer.train()"
   ]
  },
  {
   "cell_type": "code",
   "execution_count": null,
   "metadata": {},
   "outputs": [],
   "source": []
  },
  {
   "cell_type": "markdown",
   "metadata": {},
   "source": [
    "Analyzing changes"
   ]
  },
  {
   "cell_type": "code",
   "execution_count": 61,
   "metadata": {},
   "outputs": [
    {
     "data": {
      "text/plain": [
       "{'layer.11.attention.self.value.bias': 0.026394473388791084,\n",
       " 'layer.2.attention.output.dense.weight': 0.02037915028631687,\n",
       " 'layer.1.attention.self.value.weight': 0.02002185583114624,\n",
       " 'layer.1.attention.output.dense.weight': 0.019848287105560303,\n",
       " 'layer.2.attention.self.value.weight': 0.019803011789917946,\n",
       " 'layer.5.attention.self.value.bias': 0.019594093784689903,\n",
       " 'layer.4.attention.self.value.bias': 0.01948438212275505,\n",
       " 'layer.0.attention.output.dense.weight': 0.019157743081450462,\n",
       " 'layer.0.attention.self.value.weight': 0.019086947664618492,\n",
       " 'layer.3.attention.output.dense.weight': 0.018873181194067,\n",
       " 'layer.3.attention.self.value.weight': 0.017484955489635468,\n",
       " 'layer.10.attention.self.value.bias': 0.01732456125319004,\n",
       " 'layer.7.attention.output.dense.weight': 0.01709306426346302,\n",
       " 'layer.6.attention.output.dense.weight': 0.017055507749319077,\n",
       " 'layer.4.attention.output.dense.weight': 0.016797101125121117,\n",
       " 'layer.5.attention.output.dense.weight': 0.016542816534638405,\n",
       " 'layer.7.attention.self.value.weight': 0.016497354954481125,\n",
       " 'layer.9.attention.output.dense.weight': 0.016215262934565544,\n",
       " 'layer.6.attention.self.value.weight': 0.016070881858468056,\n",
       " 'layer.3.attention.self.value.bias': 0.015961749479174614,\n",
       " 'layer.8.attention.output.dense.weight': 0.01595369353890419,\n",
       " 'layer.5.attention.self.value.weight': 0.015840299427509308,\n",
       " 'layer.4.attention.self.value.weight': 0.015793198719620705,\n",
       " 'layer.0.output.dense.weight': 0.01577169820666313,\n",
       " 'layer.9.attention.self.value.weight': 0.01546404603868723,\n",
       " 'layer.0.intermediate.dense.weight': 0.015330174006521702,\n",
       " 'layer.10.attention.output.dense.weight': 0.015291821211576462,\n",
       " 'layer.8.attention.self.value.weight': 0.015034619718790054,\n",
       " 'layer.0.attention.output.dense.bias': 0.014834347181022167,\n",
       " 'layer.6.attention.self.value.bias': 0.014664363116025925,\n",
       " 'layer.10.attention.self.value.weight': 0.014489683322608471,\n",
       " 'layer.1.output.dense.weight': 0.014384209178388119,\n",
       " 'layer.1.intermediate.dense.weight': 0.014359206892549992,\n",
       " 'layer.7.output.dense.weight': 0.014238529838621616,\n",
       " 'layer.2.intermediate.dense.weight': 0.014151460491120815,\n",
       " 'layer.2.output.dense.weight': 0.014142142608761787,\n",
       " 'layer.8.output.dense.weight': 0.014046895317733288,\n",
       " 'layer.7.intermediate.dense.weight': 0.014042253606021404,\n",
       " 'layer.3.intermediate.dense.weight': 0.013974918983876705,\n",
       " 'layer.8.intermediate.dense.weight': 0.013939262367784977,\n",
       " 'layer.3.output.dense.weight': 0.013930094428360462,\n",
       " 'layer.9.attention.self.value.bias': 0.013869326561689377,\n",
       " 'layer.5.output.dense.weight': 0.01379738375544548,\n",
       " 'layer.1.attention.self.query.weight': 0.01373679656535387,\n",
       " 'layer.4.intermediate.dense.weight': 0.013695493340492249,\n",
       " 'layer.6.output.dense.weight': 0.013662238605320454,\n",
       " 'layer.4.output.dense.weight': 0.01366095058619976,\n",
       " 'layer.5.intermediate.dense.weight': 0.013631821610033512,\n",
       " 'layer.9.intermediate.dense.weight': 0.013585389591753483,\n",
       " 'layer.6.intermediate.dense.weight': 0.013579016551375389,\n",
       " 'layer.4.attention.self.key.weight': 0.013536656275391579,\n",
       " 'layer.4.attention.self.query.weight': 0.01348009705543518,\n",
       " 'layer.10.intermediate.dense.weight': 0.013466203585267067,\n",
       " 'layer.1.attention.self.value.bias': 0.013353104703128338,\n",
       " 'layer.1.attention.self.key.weight': 0.013335187919437885,\n",
       " 'layer.6.attention.self.key.weight': 0.013260534033179283,\n",
       " 'layer.3.attention.self.key.weight': 0.013241996988654137,\n",
       " 'layer.11.attention.output.dense.weight': 0.013231698423624039,\n",
       " 'layer.10.output.dense.weight': 0.013221888802945614,\n",
       " 'layer.9.output.dense.weight': 0.013220570050179958,\n",
       " 'layer.0.attention.self.value.bias': 0.013135663233697414,\n",
       " 'layer.7.attention.self.key.weight': 0.013104695826768875,\n",
       " 'layer.3.attention.self.query.weight': 0.013081984594464302,\n",
       " 'layer.6.attention.self.query.weight': 0.013043542392551899,\n",
       " 'layer.5.attention.self.query.weight': 0.013017038814723492,\n",
       " 'layer.2.attention.self.key.weight': 0.012983688153326511,\n",
       " 'layer.5.attention.self.key.weight': 0.012972936034202576,\n",
       " 'layer.7.attention.self.query.weight': 0.012941334396600723,\n",
       " 'layer.11.attention.output.dense.bias': 0.012938910163939,\n",
       " 'layer.11.attention.self.value.weight': 0.012765503488481045,\n",
       " 'layer.4.attention.output.dense.bias': 0.012525052763521671,\n",
       " 'layer.2.attention.self.query.weight': 0.012459072284400463,\n",
       " 'layer.8.attention.self.query.weight': 0.012447542510926723,\n",
       " 'layer.8.attention.self.key.weight': 0.012387508526444435,\n",
       " 'layer.11.intermediate.dense.weight': 0.012319987639784813,\n",
       " 'layer.9.attention.self.query.weight': 0.012278680689632893,\n",
       " 'layer.7.attention.self.value.bias': 0.012254055589437485,\n",
       " 'layer.0.attention.self.query.weight': 0.01222898531705141,\n",
       " 'layer.9.attention.self.key.weight': 0.012201471254229546,\n",
       " 'layer.0.attention.self.key.weight': 0.012178422883152962,\n",
       " 'layer.11.attention.self.key.weight': 0.01209891028702259,\n",
       " 'layer.10.attention.self.key.weight': 0.011915566399693489,\n",
       " 'layer.5.attention.output.dense.bias': 0.011819406412541866,\n",
       " 'layer.11.attention.self.query.weight': 0.011757729575037956,\n",
       " 'layer.10.attention.self.query.weight': 0.011707550846040249,\n",
       " 'layer.11.output.dense.weight': 0.011660601012408733,\n",
       " 'layer.8.attention.self.value.bias': 0.011333775706589222,\n",
       " 'layer.6.attention.output.dense.bias': 0.010534292086958885,\n",
       " 'layer.4.output.dense.bias': 0.009986449964344501,\n",
       " 'layer.10.attention.output.dense.bias': 0.009584474377334118,\n",
       " 'layer.5.output.dense.bias': 0.009160407818853855,\n",
       " 'layer.2.attention.self.value.bias': 0.0091087119653821,\n",
       " 'layer.1.attention.output.dense.bias': 0.008985779248178005,\n",
       " 'layer.1.output.dense.bias': 0.00878637470304966,\n",
       " 'layer.9.attention.output.dense.bias': 0.008722779341042042,\n",
       " 'layer.7.attention.output.dense.bias': 0.008326198905706406,\n",
       " 'bert_for_masked_lm.cls.predictions.transform.dense.weight': 0.008234990760684013,\n",
       " 'layer.8.attention.output.dense.bias': 0.007918107323348522,\n",
       " 'bert_for_masked_lm.bert.embeddings.word_embeddings.weight': 0.007622410077601671,\n",
       " 'layer.6.output.dense.bias': 0.007340696174651384,\n",
       " 'layer.3.attention.output.dense.bias': 0.007332217879593372,\n",
       " 'layer.3.output.dense.bias': 0.007329622749239206,\n",
       " 'layer.2.output.dense.bias': 0.0071398173458874226,\n",
       " 'layer.11.output.dense.bias': 0.007012330926954746,\n",
       " 'layer.0.output.dense.bias': 0.006800471805036068,\n",
       " 'layer.7.output.dense.bias': 0.006571775767952204,\n",
       " 'layer.9.output.dense.bias': 0.006472047418355942,\n",
       " 'layer.2.attention.output.dense.bias': 0.006079746875911951,\n",
       " 'layer.8.output.dense.bias': 0.006016656290739775,\n",
       " 'layer.3.intermediate.dense.bias': 0.004959744401276112,\n",
       " 'layer.1.intermediate.dense.bias': 0.004925816785544157,\n",
       " 'layer.10.output.dense.bias': 0.004871845245361328,\n",
       " 'layer.8.intermediate.dense.bias': 0.004822367802262306,\n",
       " 'layer.11.intermediate.dense.bias': 0.004799152724444866,\n",
       " 'layer.2.intermediate.dense.bias': 0.004754369147121906,\n",
       " 'layer.0.intermediate.dense.bias': 0.0047524478286504745,\n",
       " 'layer.9.intermediate.dense.bias': 0.004621897824108601,\n",
       " 'layer.10.intermediate.dense.bias': 0.004611901938915253,\n",
       " 'layer.6.intermediate.dense.bias': 0.004558592569082975,\n",
       " 'layer.4.intermediate.dense.bias': 0.004554365295916796,\n",
       " 'layer.5.attention.self.query.bias': 0.004540763795375824,\n",
       " 'layer.7.intermediate.dense.bias': 0.004479884635657072,\n",
       " 'layer.5.intermediate.dense.bias': 0.004408762324601412,\n",
       " 'layer.2.attention.self.query.bias': 0.004404457751661539,\n",
       " 'layer.6.attention.self.query.bias': 0.004289672244340181,\n",
       " 'layer.3.attention.self.query.bias': 0.003964894451200962,\n",
       " 'layer.7.attention.self.query.bias': 0.0038544461131095886,\n",
       " 'layer.4.attention.self.query.bias': 0.0036796678323298693,\n",
       " 'layer.9.attention.self.query.bias': 0.003238231409341097,\n",
       " 'layer.1.attention.self.query.bias': 0.0030758390203118324,\n",
       " 'bert_for_masked_lm.cls.predictions.transform.dense.bias': 0.0030562710016965866,\n",
       " 'layer.8.attention.self.query.bias': 0.003026441903784871,\n",
       " 'layer.11.attention.self.query.bias': 0.002407694933936,\n",
       " 'layer.10.attention.self.query.bias': 0.0023755065631121397,\n",
       " 'layer.0.attention.self.query.bias': 0.0018495334079489112,\n",
       " 'layer.0.attention.self.key.bias': 0.001052423962391913,\n",
       " 'bert_for_masked_lm.cls.predictions.bias': 0.0009558976162225008,\n",
       " 'layer.1.attention.self.key.bias': 0.0005109870107844472,\n",
       " 'layer.11.attention.self.key.bias': 0.0004897784092463553,\n",
       " 'layer.8.attention.self.key.bias': 0.00047169259050861,\n",
       " 'layer.2.attention.self.key.bias': 0.00045983350719325244,\n",
       " 'layer.5.attention.self.key.bias': 0.00042415541247464716,\n",
       " 'layer.4.attention.self.key.bias': 0.0004123518883716315,\n",
       " 'layer.3.attention.self.key.bias': 0.00040698907105252147,\n",
       " 'layer.7.attention.self.key.bias': 0.0003720266977325082,\n",
       " 'layer.9.attention.self.key.bias': 0.0003338464011903852,\n",
       " 'layer.6.attention.self.key.bias': 0.00032774050487205386,\n",
       " 'layer.10.attention.self.key.bias': 0.00019669895118568093,\n",
       " 'bert_for_masked_lm.bert.embeddings.position_embeddings.weight': 6.230596341083583e-07,\n",
       " 'bert_for_masked_lm.bert.embeddings.token_type_embeddings.weight': 2.962356973057467e-07}"
      ]
     },
     "execution_count": 61,
     "metadata": {},
     "output_type": "execute_result"
    }
   ],
   "source": [
    "change_sorted_weights = sorted([(-v[-1], k) for k, v in stat_rec.change_magnitudes.items() if len(v) > 0])\n",
    "{k.replace(\"bert_for_masked_lm.bert.encoder.\", \"\"): -x for x, k in change_sorted_weights}"
   ]
  },
  {
   "cell_type": "code",
   "execution_count": 62,
   "metadata": {},
   "outputs": [
    {
     "data": {
      "image/png": "[encoded data removed]",
      "text/plain": [
       "<Figure size 720x2880 with 10 Axes>"
      ]
     },
     "metadata": {
      "needs_background": "light"
     },
     "output_type": "display_data"
    }
   ],
   "source": [
    "n = 10\n",
    "fig = plt.figure(figsize=(10, n * 4))\n",
    "for i, (_, k) in enumerate(change_sorted_weights[:n]):\n",
    "    ax = fig.add_subplot(n, 1, i+1)\n",
    "    ax.plot(stat_rec.grad_magnitudes[k])"
   ]
  },
  {
   "cell_type": "code",
   "execution_count": null,
   "metadata": {},
   "outputs": [],
   "source": []
  },
  {
   "cell_type": "code",
   "execution_count": null,
   "metadata": {},
   "outputs": [],
   "source": []
  },
  {
   "cell_type": "markdown",
   "metadata": {},
   "source": [
    "# Evaluate"
   ]
  },
  {
   "cell_type": "markdown",
   "metadata": {},
   "source": [
    "Simple prediction"
   ]
  },
  {
   "cell_type": "code",
   "execution_count": 63,
   "metadata": {},
   "outputs": [],
   "source": [
    "def get_preds(model, batch: TensorDict):\n",
    "    return model(**batch)[\"logits\"].argmax(2)"
   ]
  },
  {
   "cell_type": "code",
   "execution_count": 64,
   "metadata": {},
   "outputs": [
    {
     "data": {
      "text/plain": [
       "['[CLS] [MASK] is a programmer [PAD] [PAD] [PAD] [PAD] [PAD] [PAD] [PAD] [PAD] [PAD] [PAD] [PAD] [PAD] [PAD] [PAD] [PAD] [PAD] [PAD] [PAD] [SEP]',\n",
       " '[CLS] [MASK] is a house ##maid [PAD] [PAD] [PAD] [PAD] [PAD] [PAD] [PAD] [PAD] [PAD] [PAD] [PAD] [PAD] [PAD] [PAD] [PAD] [PAD] [PAD] [SEP]',\n",
       " '[CLS] [MASK] is dangerous [PAD] [PAD] [PAD] [PAD] [PAD] [PAD] [PAD] [PAD] [PAD] [PAD] [PAD] [PAD] [PAD] [PAD] [PAD] [PAD] [PAD] [PAD] [PAD] [SEP]',\n",
       " '[CLS] [MASK] is a nurse [PAD] [PAD] [PAD] [PAD] [PAD] [PAD] [PAD] [PAD] [PAD] [PAD] [PAD] [PAD] [PAD] [PAD] [PAD] [PAD] [PAD] [PAD] [SEP]',\n",
       " '[CLS] [MASK] is a programmer [PAD] [PAD] [PAD] [PAD] [PAD] [PAD] [PAD] [PAD] [PAD] [PAD] [PAD] [PAD] [PAD] [PAD] [PAD] [PAD] [PAD] [PAD] [SEP]',\n",
       " '[CLS] [MASK] is a programmer [PAD] [PAD] [PAD] [PAD] [PAD] [PAD] [PAD] [PAD] [PAD] [PAD] [PAD] [PAD] [PAD] [PAD] [PAD] [PAD] [PAD] [PAD] [SEP]',\n",
       " '[CLS] [MASK] is violent [PAD] [PAD] [PAD] [PAD] [PAD] [PAD] [PAD] [PAD] [PAD] [PAD] [PAD] [PAD] [PAD] [PAD] [PAD] [PAD] [PAD] [PAD] [PAD] [SEP]',\n",
       " '[CLS] [MASK] is a scientist [PAD] [PAD] [PAD] [PAD] [PAD] [PAD] [PAD] [PAD] [PAD] [PAD] [PAD] [PAD] [PAD] [PAD] [PAD] [PAD] [PAD] [PAD] [SEP]',\n",
       " '[CLS] [MASK] is married [PAD] [PAD] [PAD] [PAD] [PAD] [PAD] [PAD] [PAD] [PAD] [PAD] [PAD] [PAD] [PAD] [PAD] [PAD] [PAD] [PAD] [PAD] [PAD] [SEP]',\n",
       " '[CLS] [MASK] is violent [PAD] [PAD] [PAD] [PAD] [PAD] [PAD] [PAD] [PAD] [PAD] [PAD] [PAD] [PAD] [PAD] [PAD] [PAD] [PAD] [PAD] [PAD] [PAD] [SEP]',\n",
       " '[CLS] [MASK] is dangerous [PAD] [PAD] [PAD] [PAD] [PAD] [PAD] [PAD] [PAD] [PAD] [PAD] [PAD] [PAD] [PAD] [PAD] [PAD] [PAD] [PAD] [PAD] [PAD] [SEP]',\n",
       " '[CLS] [MASK] is a programmer [PAD] [PAD] [PAD] [PAD] [PAD] [PAD] [PAD] [PAD] [PAD] [PAD] [PAD] [PAD] [PAD] [PAD] [PAD] [PAD] [PAD] [PAD] [SEP]',\n",
       " '[CLS] [MASK] is a scientist [PAD] [PAD] [PAD] [PAD] [PAD] [PAD] [PAD] [PAD] [PAD] [PAD] [PAD] [PAD] [PAD] [PAD] [PAD] [PAD] [PAD] [PAD] [SEP]',\n",
       " '[CLS] [MASK] is a dog [PAD] [PAD] [PAD] [PAD] [PAD] [PAD] [PAD] [PAD] [PAD] [PAD] [PAD] [PAD] [PAD] [PAD] [PAD] [PAD] [PAD] [PAD] [SEP]',\n",
       " '[CLS] [MASK] is a father [PAD] [PAD] [PAD] [PAD] [PAD] [PAD] [PAD] [PAD] [PAD] [PAD] [PAD] [PAD] [PAD] [PAD] [PAD] [PAD] [PAD] [PAD] [SEP]',\n",
       " '[CLS] [MASK] is a house ##maid [PAD] [PAD] [PAD] [PAD] [PAD] [PAD] [PAD] [PAD] [PAD] [PAD] [PAD] [PAD] [PAD] [PAD] [PAD] [PAD] [PAD] [SEP]',\n",
       " '[CLS] [MASK] is a programmer [PAD] [PAD] [PAD] [PAD] [PAD] [PAD] [PAD] [PAD] [PAD] [PAD] [PAD] [PAD] [PAD] [PAD] [PAD] [PAD] [PAD] [PAD] [SEP]',\n",
       " '[CLS] [MASK] is a father [PAD] [PAD] [PAD] [PAD] [PAD] [PAD] [PAD] [PAD] [PAD] [PAD] [PAD] [PAD] [PAD] [PAD] [PAD] [PAD] [PAD] [PAD] [SEP]',\n",
       " '[CLS] [MASK] is beautiful [PAD] [PAD] [PAD] [PAD] [PAD] [PAD] [PAD] [PAD] [PAD] [PAD] [PAD] [PAD] [PAD] [PAD] [PAD] [PAD] [PAD] [PAD] [PAD] [SEP]',\n",
       " '[CLS] [MASK] is a father [PAD] [PAD] [PAD] [PAD] [PAD] [PAD] [PAD] [PAD] [PAD] [PAD] [PAD] [PAD] [PAD] [PAD] [PAD] [PAD] [PAD] [PAD] [SEP]',\n",
       " '[CLS] [MASK] is violent [PAD] [PAD] [PAD] [PAD] [PAD] [PAD] [PAD] [PAD] [PAD] [PAD] [PAD] [PAD] [PAD] [PAD] [PAD] [PAD] [PAD] [PAD] [PAD] [SEP]',\n",
       " '[CLS] [MASK] is a mother [PAD] [PAD] [PAD] [PAD] [PAD] [PAD] [PAD] [PAD] [PAD] [PAD] [PAD] [PAD] [PAD] [PAD] [PAD] [PAD] [PAD] [PAD] [SEP]',\n",
       " '[CLS] [MASK] is a father [PAD] [PAD] [PAD] [PAD] [PAD] [PAD] [PAD] [PAD] [PAD] [PAD] [PAD] [PAD] [PAD] [PAD] [PAD] [PAD] [PAD] [PAD] [SEP]',\n",
       " '[CLS] [MASK] is dangerous [PAD] [PAD] [PAD] [PAD] [PAD] [PAD] [PAD] [PAD] [PAD] [PAD] [PAD] [PAD] [PAD] [PAD] [PAD] [PAD] [PAD] [PAD] [PAD] [SEP]',\n",
       " '[CLS] [MASK] is a house ##maid [PAD] [PAD] [PAD] [PAD] [PAD] [PAD] [PAD] [PAD] [PAD] [PAD] [PAD] [PAD] [PAD] [PAD] [PAD] [PAD] [PAD] [SEP]',\n",
       " '[CLS] [MASK] is a scientist [PAD] [PAD] [PAD] [PAD] [PAD] [PAD] [PAD] [PAD] [PAD] [PAD] [PAD] [PAD] [PAD] [PAD] [PAD] [PAD] [PAD] [PAD] [SEP]',\n",
       " '[CLS] [MASK] is a nurse [PAD] [PAD] [PAD] [PAD] [PAD] [PAD] [PAD] [PAD] [PAD] [PAD] [PAD] [PAD] [PAD] [PAD] [PAD] [PAD] [PAD] [PAD] [SEP]',\n",
       " '[CLS] [MASK] is a mother [PAD] [PAD] [PAD] [PAD] [PAD] [PAD] [PAD] [PAD] [PAD] [PAD] [PAD] [PAD] [PAD] [PAD] [PAD] [PAD] [PAD] [PAD] [SEP]',\n",
       " '[CLS] [MASK] is a scientist [PAD] [PAD] [PAD] [PAD] [PAD] [PAD] [PAD] [PAD] [PAD] [PAD] [PAD] [PAD] [PAD] [PAD] [PAD] [PAD] [PAD] [PAD] [SEP]',\n",
       " '[CLS] [MASK] is married [PAD] [PAD] [PAD] [PAD] [PAD] [PAD] [PAD] [PAD] [PAD] [PAD] [PAD] [PAD] [PAD] [PAD] [PAD] [PAD] [PAD] [PAD] [PAD] [SEP]',\n",
       " '[CLS] [MASK] is violent [PAD] [PAD] [PAD] [PAD] [PAD] [PAD] [PAD] [PAD] [PAD] [PAD] [PAD] [PAD] [PAD] [PAD] [PAD] [PAD] [PAD] [PAD] [PAD] [SEP]',\n",
       " '[CLS] [MASK] is a mother [PAD] [PAD] [PAD] [PAD] [PAD] [PAD] [PAD] [PAD] [PAD] [PAD] [PAD] [PAD] [PAD] [PAD] [PAD] [PAD] [PAD] [PAD] [SEP]']"
      ]
     },
     "execution_count": 64,
     "metadata": {},
     "output_type": "execute_result"
    }
   ],
   "source": [
    "to_words(batch[\"input\"][\"tokens\"])"
   ]
  },
  {
   "cell_type": "code",
   "execution_count": 65,
   "metadata": {},
   "outputs": [
    {
     "data": {
      "text/plain": [
       "['. she he he he je ##jia ##jia ##jia ##jia ##jia ##jia ##jia ##jia ##jia ##jia ##jia ##jia ##jia ##jia ##jia ##jia . .',\n",
       " '. she he he he ##maid ##jia ##jia ##jia ##jia ##jia ##jia ##jia ##jia ##jia ##jia ##jia ##jia ##jia ##jia ##jia ##jia . .',\n",
       " '. it he she ##jia ##jia ##jia ##jia ##jia ##jia ##jia ##jia ##jia ##jia ##jia ##jia ##jia ##jia ##jia ##jia ##jia ##jia . .',\n",
       " '. she he he he ##jia ##jia ##jia ##jia ##jia ##jia ##jia ##jia ##jia ##jia ##jia ##jia ##jia ##jia ##jia ##jia ##jia . .',\n",
       " '. she he he he je ##jia ##jia ##jia ##jia ##jia ##jia ##jia ##jia ##jia ##jia ##jia ##jia ##jia ##jia ##jia ##jia . .',\n",
       " '. she he he he je ##jia ##jia ##jia ##jia ##jia ##jia ##jia ##jia ##jia ##jia ##jia ##jia ##jia ##jia ##jia ##jia . .',\n",
       " '. it he she ##jia ##jia ##jia ##jia ##jia ##jia ##jia ##jia ##jia ##jia ##jia ##jia ##jia ##jia ##jia ##jia ##jia ##jia . .',\n",
       " '. she he he he gia ##jia ##jia ##jia ##jia ##jia ##jia ##jia ##jia ##jia ##jia ##jia ##jia ##jia ##jia ##jia ##jia . .',\n",
       " '. she he he ##jia ##jia ##jia ##jia ##jia ##jia ##jia ##jia ##jia ##jia ##jia ##jia ##jia ##jia ##jia ##jia ##jia ##jia . .',\n",
       " '. it he she ##jia ##jia ##jia ##jia ##jia ##jia ##jia ##jia ##jia ##jia ##jia ##jia ##jia ##jia ##jia ##jia ##jia ##jia . .',\n",
       " '. it he she ##jia ##jia ##jia ##jia ##jia ##jia ##jia ##jia ##jia ##jia ##jia ##jia ##jia ##jia ##jia ##jia ##jia ##jia . .',\n",
       " '. she he he he je ##jia ##jia ##jia ##jia ##jia ##jia ##jia ##jia ##jia ##jia ##jia ##jia ##jia ##jia ##jia ##jia . .',\n",
       " '. she he he he gia ##jia ##jia ##jia ##jia ##jia ##jia ##jia ##jia ##jia ##jia ##jia ##jia ##jia ##jia ##jia ##jia . .',\n",
       " '. she he he he ##jia ##jia ##jia ##jia ##jia ##jia ##jia ##jia ##jia ##jia ##jia ##jia ##jia ##jia ##jia ##jia ##jia . .',\n",
       " '. he he he he ##jia ##jia ##jia ##jia ##jia ##jia ##jia ##jia ##jia ##jia ##jia ##jia ##jia ##jia ##jia ##jia ##jia . .',\n",
       " '. she he he he ##maid ##jia ##jia ##jia ##jia ##jia ##jia ##jia ##jia ##jia ##jia ##jia ##jia ##jia ##jia ##jia ##jia . .',\n",
       " '. she he he he je ##jia ##jia ##jia ##jia ##jia ##jia ##jia ##jia ##jia ##jia ##jia ##jia ##jia ##jia ##jia ##jia . .',\n",
       " '. he he he he ##jia ##jia ##jia ##jia ##jia ##jia ##jia ##jia ##jia ##jia ##jia ##jia ##jia ##jia ##jia ##jia ##jia . .',\n",
       " '. it he he ##jia ##jia ##jia ##jia ##jia ##jia ##jia ##jia ##jia ##jia ##jia ##jia ##jia ##jia ##jia ##jia ##jia ##jia . .',\n",
       " '. he he he he ##jia ##jia ##jia ##jia ##jia ##jia ##jia ##jia ##jia ##jia ##jia ##jia ##jia ##jia ##jia ##jia ##jia . .',\n",
       " '. it he she ##jia ##jia ##jia ##jia ##jia ##jia ##jia ##jia ##jia ##jia ##jia ##jia ##jia ##jia ##jia ##jia ##jia ##jia . .',\n",
       " '. she he he he ##jia ##jia ##jia ##jia ##jia ##jia ##jia ##jia ##jia ##jia ##jia ##jia ##jia ##jia ##jia ##jia ##jia . .',\n",
       " '. he he he he ##jia ##jia ##jia ##jia ##jia ##jia ##jia ##jia ##jia ##jia ##jia ##jia ##jia ##jia ##jia ##jia ##jia . .',\n",
       " '. it he she ##jia ##jia ##jia ##jia ##jia ##jia ##jia ##jia ##jia ##jia ##jia ##jia ##jia ##jia ##jia ##jia ##jia ##jia . .',\n",
       " '. she he he he ##maid ##jia ##jia ##jia ##jia ##jia ##jia ##jia ##jia ##jia ##jia ##jia ##jia ##jia ##jia ##jia ##jia . .',\n",
       " '. she he he he gia ##jia ##jia ##jia ##jia ##jia ##jia ##jia ##jia ##jia ##jia ##jia ##jia ##jia ##jia ##jia ##jia . .',\n",
       " '. she he he he ##jia ##jia ##jia ##jia ##jia ##jia ##jia ##jia ##jia ##jia ##jia ##jia ##jia ##jia ##jia ##jia ##jia . .',\n",
       " '. she he he he ##jia ##jia ##jia ##jia ##jia ##jia ##jia ##jia ##jia ##jia ##jia ##jia ##jia ##jia ##jia ##jia ##jia . .',\n",
       " '. she he he he gia ##jia ##jia ##jia ##jia ##jia ##jia ##jia ##jia ##jia ##jia ##jia ##jia ##jia ##jia ##jia ##jia . .',\n",
       " '. she he he ##jia ##jia ##jia ##jia ##jia ##jia ##jia ##jia ##jia ##jia ##jia ##jia ##jia ##jia ##jia ##jia ##jia ##jia . .',\n",
       " '. it he she ##jia ##jia ##jia ##jia ##jia ##jia ##jia ##jia ##jia ##jia ##jia ##jia ##jia ##jia ##jia ##jia ##jia ##jia . .',\n",
       " '. she he he he ##jia ##jia ##jia ##jia ##jia ##jia ##jia ##jia ##jia ##jia ##jia ##jia ##jia ##jia ##jia ##jia ##jia . .']"
      ]
     },
     "execution_count": 65,
     "metadata": {},
     "output_type": "execute_result"
    }
   ],
   "source": [
    "to_words(get_preds(model, batch))"
   ]
  },
  {
   "cell_type": "code",
   "execution_count": null,
   "metadata": {},
   "outputs": [],
   "source": []
  },
  {
   "cell_type": "markdown",
   "metadata": {},
   "source": [
    "### Logits and bias"
   ]
  },
  {
   "cell_type": "code",
   "execution_count": 66,
   "metadata": {},
   "outputs": [],
   "source": [
    "masked_lm.eval()\n",
    "logits = masked_lm(processor.to_bert_model_input(\"[MASK] is a housemaid\"))[0, 1]"
   ]
  },
  {
   "cell_type": "code",
   "execution_count": 67,
   "metadata": {},
   "outputs": [
    {
     "data": {
      "text/plain": [
       "tensor(8.6379, grad_fn=<SelectBackward>)"
      ]
     },
     "execution_count": 67,
     "metadata": {},
     "output_type": "execute_result"
    }
   ],
   "source": [
    "logits[ttoi(\"he\")]"
   ]
  },
  {
   "cell_type": "code",
   "execution_count": 68,
   "metadata": {},
   "outputs": [
    {
     "data": {
      "text/plain": [
       "tensor(8.7579, grad_fn=<SelectBackward>)"
      ]
     },
     "execution_count": 68,
     "metadata": {},
     "output_type": "execute_result"
    }
   ],
   "source": [
    "logits[ttoi(\"she\")]"
   ]
  },
  {
   "cell_type": "markdown",
   "metadata": {},
   "source": [
    "Probabilities"
   ]
  },
  {
   "cell_type": "code",
   "execution_count": 69,
   "metadata": {},
   "outputs": [],
   "source": [
    "probs = torch.softmax(logits.unsqueeze(0), 1).squeeze(0)"
   ]
  },
  {
   "cell_type": "code",
   "execution_count": 70,
   "metadata": {},
   "outputs": [
    {
     "data": {
      "text/plain": [
       "tensor(0.3570, grad_fn=<SelectBackward>)"
      ]
     },
     "execution_count": 70,
     "metadata": {},
     "output_type": "execute_result"
    }
   ],
   "source": [
    "probs[ttoi(\"he\")]"
   ]
  },
  {
   "cell_type": "code",
   "execution_count": 71,
   "metadata": {},
   "outputs": [
    {
     "data": {
      "text/plain": [
       "tensor(0.4025, grad_fn=<SelectBackward>)"
      ]
     },
     "execution_count": 71,
     "metadata": {},
     "output_type": "execute_result"
    }
   ],
   "source": [
    "probs[ttoi(\"she\")]"
   ]
  },
  {
   "cell_type": "code",
   "execution_count": null,
   "metadata": {},
   "outputs": [],
   "source": []
  },
  {
   "cell_type": "markdown",
   "metadata": {},
   "source": [
    "##### For an example not in the vocabulary"
   ]
  },
  {
   "cell_type": "code",
   "execution_count": 72,
   "metadata": {},
   "outputs": [],
   "source": [
    "logits = masked_lm(processor.to_bert_model_input(\"[MASK] is a slut\"))[0, 1]"
   ]
  },
  {
   "cell_type": "code",
   "execution_count": 73,
   "metadata": {},
   "outputs": [
    {
     "data": {
      "text/plain": [
       "tensor(7.3279, grad_fn=<SelectBackward>)"
      ]
     },
     "execution_count": 73,
     "metadata": {},
     "output_type": "execute_result"
    }
   ],
   "source": [
    "logits[ttoi(\"he\")]"
   ]
  },
  {
   "cell_type": "code",
   "execution_count": 74,
   "metadata": {},
   "outputs": [
    {
     "data": {
      "text/plain": [
       "tensor(7.4929, grad_fn=<SelectBackward>)"
      ]
     },
     "execution_count": 74,
     "metadata": {},
     "output_type": "execute_result"
    }
   ],
   "source": [
    "logits[ttoi(\"she\")]"
   ]
  },
  {
   "cell_type": "code",
   "execution_count": 75,
   "metadata": {},
   "outputs": [],
   "source": [
    "probs = torch.softmax(logits.unsqueeze(0), 1).squeeze(0)"
   ]
  },
  {
   "cell_type": "code",
   "execution_count": 76,
   "metadata": {},
   "outputs": [
    {
     "data": {
      "text/plain": [
       "tensor(0.2117, grad_fn=<SelectBackward>)"
      ]
     },
     "execution_count": 76,
     "metadata": {},
     "output_type": "execute_result"
    }
   ],
   "source": [
    "probs[ttoi(\"he\")]"
   ]
  },
  {
   "cell_type": "code",
   "execution_count": 77,
   "metadata": {},
   "outputs": [
    {
     "data": {
      "text/plain": [
       "tensor(0.2496, grad_fn=<SelectBackward>)"
      ]
     },
     "execution_count": 77,
     "metadata": {},
     "output_type": "execute_result"
    }
   ],
   "source": [
    "probs[ttoi(\"she\")]"
   ]
  },
  {
   "cell_type": "code",
   "execution_count": null,
   "metadata": {},
   "outputs": [],
   "source": []
  },
  {
   "cell_type": "markdown",
   "metadata": {},
   "source": [
    "Why do the probabilities blow up??"
   ]
  },
  {
   "cell_type": "code",
   "execution_count": null,
   "metadata": {},
   "outputs": [],
   "source": []
  },
  {
   "cell_type": "markdown",
   "metadata": {},
   "source": [
    "# Export Weights"
   ]
  },
  {
   "cell_type": "markdown",
   "metadata": {},
   "source": [
    "As PyTorch state dict"
   ]
  },
  {
   "cell_type": "code",
   "execution_count": 78,
   "metadata": {},
   "outputs": [],
   "source": [
    "torch.save(masked_lm.state_dict(), MODEL_SAVE_DIR / \"state_dict.pth\")"
   ]
  },
  {
   "cell_type": "markdown",
   "metadata": {},
   "source": [
    "TODO: Export as tensorflow checkpoint?"
   ]
  },
  {
   "cell_type": "code",
   "execution_count": null,
   "metadata": {},
   "outputs": [],
   "source": []
  },
  {
   "cell_type": "code",
   "execution_count": null,
   "metadata": {},
   "outputs": [],
   "source": []
  }
 ],
 "metadata": {
  "kernelspec": {
   "display_name": "Python 3",
   "language": "python",
   "name": "python3"
  },
  "language_info": {
   "codemirror_mode": {
    "name": "ipython",
    "version": 3
   },
   "file_extension": ".py",
   "mimetype": "text/x-python",
   "name": "python",
   "nbconvert_exporter": "python",
   "pygments_lexer": "ipython3",
   "version": "3.6.7"
  }
 },
 "nbformat": 4,
 "nbformat_minor": 2
}
